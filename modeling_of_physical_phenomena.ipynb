{
  "nbformat": 4,
  "nbformat_minor": 0,
  "metadata": {
    "colab": {
      "provenance": [],
      "collapsed_sections": []
    },
    "kernelspec": {
      "name": "python3",
      "display_name": "Python 3"
    },
    "language_info": {
      "name": "python"
    }
  },
  "cells": [
    {
      "cell_type": "code",
      "source": [
        "import time\n",
        "import math\n",
        "from functools import reduce\n",
        "import numpy as np\n",
        "import matplotlib.pyplot as plt\n",
        "\n",
        "import sympy as sym\n",
        "from sympy import *\n",
        "\n",
        "from IPython.display import display\n",
        "from sympy.interactive import printing\n",
        "\n",
        "import warnings\n",
        "warnings.filterwarnings('ignore')"
      ],
      "metadata": {
        "id": "uNHGHEGpc67l"
      },
      "execution_count": 1,
      "outputs": []
    },
    {
      "cell_type": "code",
      "source": [
        "plt.rcParams['figure.figsize'] = (9,4)"
      ],
      "metadata": {
        "id": "21Fi853FhUml"
      },
      "execution_count": 2,
      "outputs": []
    },
    {
      "cell_type": "markdown",
      "source": [
        "# Tipografia matemática e $\\LaTeX$\n",
        "27 de fevereiro de 2019"
      ],
      "metadata": {
        "id": "892l1PogWU9F"
      }
    },
    {
      "cell_type": "markdown",
      "metadata": {
        "id": "T3R9ia83m_iZ"
      },
      "source": [
        "Hoje vamos aprender a escrever lindas equações em matemática, por exemplo o **Teorema de Pitágoras**, $a^2 = b^2 +     c^2$, e também uma fração $\\frac{x+y}{z}$. Também escrevemos a fórmula que resolve a *equação quadrática* $a  x^2 + b   x + c=0$, que tem por solução \n",
        "\n",
        "$$\\frac{-b\\pm \\sqrt{b^2-4ac}}{2 a}$$"
      ]
    },
    {
      "cell_type": "markdown",
      "source": [
        "# Conjuntos e funções\n",
        "07 de março de 2019"
      ],
      "metadata": {
        "id": "wPTJ5i7_WZrt"
      }
    },
    {
      "cell_type": "markdown",
      "metadata": {
        "id": "cpYimSm6m_ib"
      },
      "source": [
        "$ \\mathbb{C} $ Conjunto dos Complexos\n",
        "\n",
        "$ \\mathbb{R} $ Conjunto dos Reais\n",
        "\n",
        "$ \\mathbb{I} $ Conjunto dos Irracionais\n",
        "\n",
        "$ \\mathbb{Q} $ Conjunto dos Racionais\n",
        "\n",
        "$ \\mathbb{Z} $ Conjunto dos Inteiros\n",
        "\n",
        "$ \\mathbb{N} $ Conjunto dos Naturais"
      ]
    },
    {
      "cell_type": "markdown",
      "metadata": {
        "id": "16VXBzqXm_ib"
      },
      "source": [
        "- **Desafio 1**:\n",
        "Dado $x$, implementar a função $f(x)= 2x^3-4x^2+1$\n",
        " \n",
        "- **Desafio 2**:\n",
        "Dado dois numeros, ver qual é o maior\n",
        "\n",
        "- **Desafio 3**:\n",
        "Dado os valores necessários, retorne o resultado $ax^4+bx^3+cx^2+dx+e$"
      ]
    },
    {
      "cell_type": "code",
      "source": [
        "# desafio 1\n",
        "f = lambda x: 2*x**3 - 4*x**2 + 1\n",
        "\n",
        "print(f(0))\n",
        "print(f(1))\n",
        "print(f(23))"
      ],
      "metadata": {
        "colab": {
          "base_uri": "https://localhost:8080/"
        },
        "id": "BUu1jbNiWq6V",
        "outputId": "87ef0ab7-c5d7-4357-d114-7a30ba690180"
      },
      "execution_count": 3,
      "outputs": [
        {
          "output_type": "stream",
          "name": "stdout",
          "text": [
            "1\n",
            "-1\n",
            "22219\n"
          ]
        }
      ]
    },
    {
      "cell_type": "code",
      "execution_count": 4,
      "metadata": {
        "id": "lk4TKrHgSYjp"
      },
      "outputs": [],
      "source": [
        "# desafio 2\n",
        "# retornar maior elemento de uma lista\n",
        "\n",
        "def maior(array):\n",
        "    if len(array) == 1:\n",
        "        return array[0]\n",
        "\n",
        "    menor = sum(array)\n",
        "    new_array = []\n",
        "    for i in array:\n",
        "        if i <= menor:\n",
        "            menor = i\n",
        "    return maior([i for i in array if i != menor])\n",
        "\n",
        "# recursivo\n",
        "def maior_r(list):\n",
        "    if len(list) == 1:\n",
        "        return list\n",
        "    else:\n",
        "        comparador = []\n",
        "        result = []\n",
        "        for i in list:\n",
        "            if i not in comparador:\n",
        "                comparador.append(i)\n",
        "        for k in comparador:\n",
        "            for i in list:\n",
        "                if k > i:\n",
        "                    if k not in result:\n",
        "                        result.append(k)\n",
        "        return maior(result)\n",
        "\n",
        "# utilizando reduce\n",
        "greater = lambda array: reduce(lambda x, y: x if x>y else y, array)"
      ]
    },
    {
      "cell_type": "code",
      "source": [
        "array = [1, 1, 3, 4, 5, 6, 777, 8]\n",
        "\n",
        "print(maior_r(array))\n",
        "print(maior(array))\n",
        "print(greater(array))"
      ],
      "metadata": {
        "colab": {
          "base_uri": "https://localhost:8080/"
        },
        "id": "2nrqOk-Ls43D",
        "outputId": "179f5230-840c-4698-c120-66c82d61c5a1"
      },
      "execution_count": 5,
      "outputs": [
        {
          "output_type": "stream",
          "name": "stdout",
          "text": [
            "777\n",
            "777\n",
            "777\n"
          ]
        }
      ]
    },
    {
      "cell_type": "code",
      "source": [
        "# obtendo os tempos de execução\n",
        "# a função  'maior' apresentou erro de memória, então\n",
        "# não foi considerada no teste\n",
        "\n",
        "# array aleatório\n",
        "array = np.random.uniform(0, 9+1, 10000).astype(int)\n",
        "\n",
        "print('maior_r')\n",
        "start = time.time()\n",
        "maior_r(array)\n",
        "print(time.time() - start, end='\\n\\n')\n",
        "\n",
        "print('reduce')\n",
        "start = time.time()\n",
        "greater(array)\n",
        "print(time.time() - start)"
      ],
      "metadata": {
        "colab": {
          "base_uri": "https://localhost:8080/"
        },
        "id": "OWlVAMuKtx6v",
        "outputId": "959d3b96-8115-462c-e4fe-54a002548c2c"
      },
      "execution_count": 6,
      "outputs": [
        {
          "output_type": "stream",
          "name": "stdout",
          "text": [
            "maior_r\n",
            "0.025028467178344727\n",
            "\n",
            "reduce\n",
            "0.0013935565948486328\n"
          ]
        }
      ]
    },
    {
      "cell_type": "code",
      "source": [
        "# registrando 100x os tempos de execução para a\n",
        "# função 'greater'\n",
        "\n",
        "times = []\n",
        "for i in range(100):\n",
        "    start = time.time()\n",
        "    greater(array)\n",
        "    end = time.time() - start\n",
        "    times.append(end)\n",
        "\n",
        "# tempo médio\n",
        "mean = sum(times)/len(times)\n",
        "\n",
        "# plotando\n",
        "plt.plot(times, marker='x', label='tempos observados');\n",
        "plt.axhline(mean, linestyle='--', color='g', label=f'mean={round(mean, 4)}');\n",
        "plt.yticks(np.linspace(min(times), max(times), len(times)//16));\n",
        "plt.xlabel('execuções');\n",
        "plt.legend();"
      ],
      "metadata": {
        "colab": {
          "base_uri": "https://localhost:8080/",
          "height": 279
        },
        "id": "vuSbRilmw9Vu",
        "outputId": "dda9b3dd-9d6f-4e63-caf5-33beee7772f6"
      },
      "execution_count": 7,
      "outputs": [
        {
          "output_type": "display_data",
          "data": {
            "text/plain": [
              "<Figure size 648x288 with 1 Axes>"
            ],
            "image/png": "[encoded data removed]"
          },
          "metadata": {
            "needs_background": "light"
          }
        }
      ]
    },
    {
      "cell_type": "code",
      "source": [
        "# desafio 3\n",
        "# obtendo coeficientes e valor de x\n",
        "quartic_poly = lambda a, b, c, d, e, x: a*x**4 + b*x**3 + c*x**2 + d*x + e\n",
        "\n",
        "print(quartic_poly(0, 0, 0, 0, 0, 0))\n",
        "print(quartic_poly(1, 1, 1, 1, 1, 1))\n",
        "print(quartic_poly(5, 4, 5, 2, 1, 10))"
      ],
      "metadata": {
        "colab": {
          "base_uri": "https://localhost:8080/"
        },
        "id": "5wYyVP5iUo_2",
        "outputId": "4e41b1a6-d030-4cc4-b5f7-aba054439628"
      },
      "execution_count": 8,
      "outputs": [
        {
          "output_type": "stream",
          "name": "stdout",
          "text": [
            "0\n",
            "5\n",
            "54521\n"
          ]
        }
      ]
    },
    {
      "cell_type": "markdown",
      "source": [
        "# Funções, domínio e imagem\n",
        "13 de março de 2019"
      ],
      "metadata": {
        "id": "Kg5sauO2YLJB"
      }
    },
    {
      "cell_type": "markdown",
      "source": [
        "Uma função ou aplicação é uma relação de um conjunto ${\\textstyle A}$ com um conjunto ${\\textstyle B.}$ Usualmente, denotamos uma tal função por ${\\textstyle f:A\\to B,}$ ${\\textstyle y=f(x),}$ onde ${\\textstyle f}$ é o nome da função, ${\\textstyle A}$ é chamado de domínio, ${\\textstyle B}$ é chamado de contradomínio e ${\\textstyle y=f(x)}$ expressa a lei de correspondência (relação) dos elementos ${\\textstyle x\\in A}$ com os elementos ${\\textstyle y\\in B.}$\n",
        "\n",
        "$$f(x) : X \\longrightarrow Y$$"
      ],
      "metadata": {
        "id": "wxS5l7it95x8"
      }
    },
    {
      "cell_type": "markdown",
      "metadata": {
        "id": "XQEU9skum_if"
      },
      "source": [
        "## Exemplos\n",
        "\n",
        "$$f(x) : \\mathbb{R} \\longrightarrow \\mathbb{R}^{\\ge0} \\ | \\ f(x) = \\sqrt x$$\n",
        "$$f(x):\\mathbb{R}^{\\ne1} \\longrightarrow \\mathbb{R}^{\\ne0}$$\n",
        "$$f(x)= \\frac {1} {\\sqrt(x^2-4)}$$"
      ]
    },
    {
      "cell_type": "markdown",
      "metadata": {
        "id": "mzlbcLxJm_ig"
      },
      "source": [
        "## Exercício\n",
        "$$f(x) = \\sqrt{x+2}$$\n",
        "$$f(x) = \\frac{1}{x^2 - x}$$"
      ]
    },
    {
      "cell_type": "markdown",
      "metadata": {
        "id": "qPeBlytHm_ig"
      },
      "source": [
        "- $ x \\ge -2$\n",
        "- $ -1 < x < 1$"
      ]
    },
    {
      "cell_type": "code",
      "metadata": {
        "id": "b64Jne-Nm_ih",
        "colab": {
          "base_uri": "https://localhost:8080/"
        },
        "outputId": "c48d910e-dc6a-49ef-d969-634ce7805ab2"
      },
      "source": [
        "# x >= 2\n",
        "# -1 < x < 1\n",
        "\n",
        "print((lambda x: (x + 2)**1/2)(-1))\n",
        "print((lambda x: (x + 2)**1/2)(0), end='\\n\\n')\n",
        "\n",
        "print((lambda x: (x**2 - x)**(-1))(-1))\n",
        "print((lambda x: (x**2 - x)**(-1))(.5))"
      ],
      "execution_count": 9,
      "outputs": [
        {
          "output_type": "stream",
          "name": "stdout",
          "text": [
            "0.5\n",
            "1.0\n",
            "\n",
            "0.5\n",
            "-4.0\n"
          ]
        }
      ]
    },
    {
      "cell_type": "markdown",
      "metadata": {
        "id": "znBxXZu0m_ij"
      },
      "source": [
        "# *List comprehension*\n",
        "20 de março de 2019"
      ]
    },
    {
      "cell_type": "markdown",
      "metadata": {
        "id": "s-ZTyq9_m_il"
      },
      "source": [
        "$$ S=\\left\\{ 1, \\ \\frac{1}{2}, \\ \\frac{1}{3}, \\ \\frac{1}{4}, \\ \\frac{1}{5}, \\ \\dots \\ \\frac{1}{n} \\right\\} $$"
      ]
    },
    {
      "cell_type": "code",
      "source": [
        "[1/n for n in range(1,25)]"
      ],
      "metadata": {
        "colab": {
          "base_uri": "https://localhost:8080/"
        },
        "id": "3ybNAuKZXzb8",
        "outputId": "6fd266ff-f579-41d3-ba39-f0a38d3ca0ab"
      },
      "execution_count": 10,
      "outputs": [
        {
          "output_type": "execute_result",
          "data": {
            "text/plain": [
              "[1.0,\n",
              " 0.5,\n",
              " 0.3333333333333333,\n",
              " 0.25,\n",
              " 0.2,\n",
              " 0.16666666666666666,\n",
              " 0.14285714285714285,\n",
              " 0.125,\n",
              " 0.1111111111111111,\n",
              " 0.1,\n",
              " 0.09090909090909091,\n",
              " 0.08333333333333333,\n",
              " 0.07692307692307693,\n",
              " 0.07142857142857142,\n",
              " 0.06666666666666667,\n",
              " 0.0625,\n",
              " 0.058823529411764705,\n",
              " 0.05555555555555555,\n",
              " 0.05263157894736842,\n",
              " 0.05,\n",
              " 0.047619047619047616,\n",
              " 0.045454545454545456,\n",
              " 0.043478260869565216,\n",
              " 0.041666666666666664]"
            ]
          },
          "metadata": {},
          "execution_count": 10
        }
      ]
    },
    {
      "cell_type": "markdown",
      "metadata": {
        "id": "koSDG6ByZFDj"
      },
      "source": [
        "$$ S= \\left\\{ \\frac{1}{1^2}, \\ \\frac{1}{2^2}, \\ \\frac{1}{3^2}, \\ \\frac{1}{4^2}, \\ \\frac{1}{5^2}, \\ \\dots \\ \\frac{1}{n^2} \\right\\} $$"
      ]
    },
    {
      "cell_type": "code",
      "source": [
        "[1/n**2 for n in range(1,25)]"
      ],
      "metadata": {
        "colab": {
          "base_uri": "https://localhost:8080/"
        },
        "id": "ar7VSQ4vaoPt",
        "outputId": "8b2f535d-813e-4bce-b49f-1729518e7b65"
      },
      "execution_count": 11,
      "outputs": [
        {
          "output_type": "execute_result",
          "data": {
            "text/plain": [
              "[1.0,\n",
              " 0.25,\n",
              " 0.1111111111111111,\n",
              " 0.0625,\n",
              " 0.04,\n",
              " 0.027777777777777776,\n",
              " 0.02040816326530612,\n",
              " 0.015625,\n",
              " 0.012345679012345678,\n",
              " 0.01,\n",
              " 0.008264462809917356,\n",
              " 0.006944444444444444,\n",
              " 0.005917159763313609,\n",
              " 0.00510204081632653,\n",
              " 0.0044444444444444444,\n",
              " 0.00390625,\n",
              " 0.0034602076124567475,\n",
              " 0.0030864197530864196,\n",
              " 0.002770083102493075,\n",
              " 0.0025,\n",
              " 0.0022675736961451248,\n",
              " 0.002066115702479339,\n",
              " 0.001890359168241966,\n",
              " 0.001736111111111111]"
            ]
          },
          "metadata": {},
          "execution_count": 11
        }
      ]
    },
    {
      "cell_type": "markdown",
      "metadata": {
        "id": "QASzq0eAZFjv"
      },
      "source": [
        "$$ S=\\left\\{ \\frac{1}{2^1}, \\ \\frac{1}{2^2}, \\ \\frac{1}{2^3}, \\ \\frac{1}{2^4}, \\dots \\ \\frac{1}{2^n}, \\ \\right\\} $$"
      ]
    },
    {
      "cell_type": "code",
      "source": [
        "[1/2**n for n in range(1,25)]"
      ],
      "metadata": {
        "colab": {
          "base_uri": "https://localhost:8080/"
        },
        "id": "JfyKZD0jaW6m",
        "outputId": "1765a611-bfb8-4dbc-dc6e-ce4be19c808e"
      },
      "execution_count": 12,
      "outputs": [
        {
          "output_type": "execute_result",
          "data": {
            "text/plain": [
              "[0.5,\n",
              " 0.25,\n",
              " 0.125,\n",
              " 0.0625,\n",
              " 0.03125,\n",
              " 0.015625,\n",
              " 0.0078125,\n",
              " 0.00390625,\n",
              " 0.001953125,\n",
              " 0.0009765625,\n",
              " 0.00048828125,\n",
              " 0.000244140625,\n",
              " 0.0001220703125,\n",
              " 6.103515625e-05,\n",
              " 3.0517578125e-05,\n",
              " 1.52587890625e-05,\n",
              " 7.62939453125e-06,\n",
              " 3.814697265625e-06,\n",
              " 1.9073486328125e-06,\n",
              " 9.5367431640625e-07,\n",
              " 4.76837158203125e-07,\n",
              " 2.384185791015625e-07,\n",
              " 1.1920928955078125e-07,\n",
              " 5.960464477539063e-08]"
            ]
          },
          "metadata": {},
          "execution_count": 12
        }
      ]
    },
    {
      "cell_type": "code",
      "source": [
        "[(i,k) for i in range(1,3+1) for k in range(1,9+1)[i:]]"
      ],
      "metadata": {
        "colab": {
          "base_uri": "https://localhost:8080/"
        },
        "id": "qGW33VNyAVCx",
        "outputId": "d48c276e-43a3-4372-9e8d-0cf1dcbaef18"
      },
      "execution_count": 13,
      "outputs": [
        {
          "output_type": "execute_result",
          "data": {
            "text/plain": [
              "[(1, 2),\n",
              " (1, 3),\n",
              " (1, 4),\n",
              " (1, 5),\n",
              " (1, 6),\n",
              " (1, 7),\n",
              " (1, 8),\n",
              " (1, 9),\n",
              " (2, 3),\n",
              " (2, 4),\n",
              " (2, 5),\n",
              " (2, 6),\n",
              " (2, 7),\n",
              " (2, 8),\n",
              " (2, 9),\n",
              " (3, 4),\n",
              " (3, 5),\n",
              " (3, 6),\n",
              " (3, 7),\n",
              " (3, 8),\n",
              " (3, 9)]"
            ]
          },
          "metadata": {},
          "execution_count": 13
        }
      ]
    },
    {
      "cell_type": "markdown",
      "source": [
        "# Sequências, séries, limites e constantes\n",
        "21 de março de 2019"
      ],
      "metadata": {
        "id": "tbAfoNiYbHDi"
      }
    },
    {
      "cell_type": "code",
      "source": [
        "# termo geral PA\n",
        "def termo_pa(termo_s0, r, n):\n",
        "    return termo_s0 + r*(n-1)\n",
        "\n",
        "# soma de n termos da PA\n",
        "def soma_pa(termo_s0, r, n):\n",
        "    return int((termo_s0 + termo_pa(termo_s0, r, n)) * n/2)\n",
        "\n",
        "print(list(range(5, (5*10)+1, 5)))\n",
        "print('termo 3 =', termo_pa(termo_s0=5, r=5, n=3))\n",
        "print('soma 3 termos =', soma_pa(termo_s0=5, r=5, n=3), end='\\n\\n')\n",
        "\n",
        "print(list(range(1, (1*10)+1, 1)))\n",
        "print('termo 10 =', termo_pa(termo_s0=1, r=1, n=10))\n",
        "print('soma 10 termos =', soma_pa(termo_s0=1, r=1, n=10))"
      ],
      "metadata": {
        "colab": {
          "base_uri": "https://localhost:8080/"
        },
        "id": "yTLRpdJObJvN",
        "outputId": "8f8ca5d7-afc7-4635-e986-b44ff7d6d681"
      },
      "execution_count": 14,
      "outputs": [
        {
          "output_type": "stream",
          "name": "stdout",
          "text": [
            "[5, 10, 15, 20, 25, 30, 35, 40, 45, 50]\n",
            "termo 3 = 15\n",
            "soma 3 termos = 30\n",
            "\n",
            "[1, 2, 3, 4, 5, 6, 7, 8, 9, 10]\n",
            "termo 10 = 10\n",
            "soma 10 termos = 55\n"
          ]
        }
      ]
    },
    {
      "cell_type": "markdown",
      "metadata": {
        "id": "dyQVK-Mfm_ip"
      },
      "source": [
        "## Série Harmônica\n",
        "$${\\displaystyle \\sum _{k=1}^{\\infty }{\\frac {1}{k}}=1+{\\frac {1}{2}}+{\\frac {1}{3}}+{\\frac {1}{4}}+\\cdots }$$"
      ]
    },
    {
      "cell_type": "code",
      "metadata": {
        "id": "1kgCGxMXm_iq",
        "outputId": "78931549-499a-4b86-bb34-4a61765d8f6b",
        "colab": {
          "base_uri": "https://localhost:8080/"
        }
      },
      "source": [
        "def serie_harmonica(n):\n",
        "    return [1/n for n in range(1, n+1)]\n",
        "\n",
        "print(serie_harmonica(5), end='\\n\\n')\n",
        "print(sum(serie_harmonica(5000)))\n",
        "print(sum(serie_harmonica(50000)))"
      ],
      "execution_count": 15,
      "outputs": [
        {
          "output_type": "stream",
          "name": "stdout",
          "text": [
            "[1.0, 0.5, 0.3333333333333333, 0.25, 0.2]\n",
            "\n",
            "9.094508852984404\n",
            "11.397003949278504\n"
          ]
        }
      ]
    },
    {
      "cell_type": "code",
      "source": [
        "n = 100\n",
        "plt.figure(figsize=(10,5))\n",
        "plt.plot(range(1,n+1), serie_harmonica(n));\n",
        "plt.xlabel('Valores de $X$');\n",
        "plt.ylabel('Valores da Série');\n",
        "plt.title('Termos da Série em função de $X$');"
      ],
      "metadata": {
        "colab": {
          "base_uri": "https://localhost:8080/",
          "height": 354
        },
        "id": "h_Wu929UbaKi",
        "outputId": "883ec4ed-86b2-4c40-f93b-a8dde5ccfbb1"
      },
      "execution_count": 16,
      "outputs": [
        {
          "output_type": "display_data",
          "data": {
            "text/plain": [
              "<Figure size 720x360 with 1 Axes>"
            ],
            "image/png": "[encoded data removed]"
          },
          "metadata": {
            "needs_background": "light"
          }
        }
      ]
    },
    {
      "cell_type": "code",
      "source": [
        "n = 100\n",
        "plt.figure(figsize=(10,5))\n",
        "plt.plot(range(1,n+1), [sum(serie_harmonica(n)) for n in range(1,n+1)]);\n",
        "plt.xlabel('Valores de $X$');\n",
        "plt.ylabel('Soma dos valores da Série');\n",
        "plt.title('Soma da Série em função de $X$ termos');"
      ],
      "metadata": {
        "colab": {
          "base_uri": "https://localhost:8080/",
          "height": 354
        },
        "id": "iuJ_GMoTdMdv",
        "outputId": "9795ef65-66d9-42e5-9456-513c5ace90af"
      },
      "execution_count": 17,
      "outputs": [
        {
          "output_type": "display_data",
          "data": {
            "text/plain": [
              "<Figure size 720x360 with 1 Axes>"
            ],
            "image/png": "[encoded data removed]"
          },
          "metadata": {
            "needs_background": "light"
          }
        }
      ]
    },
    {
      "cell_type": "markdown",
      "metadata": {
        "id": "tyivQeQ6m_iw"
      },
      "source": [
        "## Constante $e$: número de Euler\n",
        "$$ e = 1 + \\frac{1}{1!} + \\frac{1}{2!} + \\frac{1}{3!} + \\frac{1}{4!} \\ + \\dots + \\ \\frac{1}{n!} $$\n",
        "\n"
      ]
    },
    {
      "cell_type": "markdown",
      "metadata": {
        "id": "qyGcmn8Rm_iy"
      },
      "source": [
        "$ e = 2,718281828459045235360287 $"
      ]
    },
    {
      "cell_type": "code",
      "source": [
        "calc_e = lambda n:sum([1/math.factorial(n) for n in range(n)])\n",
        "\n",
        "print(calc_e(10))\n",
        "print(calc_e(100))"
      ],
      "metadata": {
        "colab": {
          "base_uri": "https://localhost:8080/"
        },
        "id": "5OHuF3fOd7NV",
        "outputId": "2a1992a1-fcc7-4ff9-8afd-7ab2034ef7a1"
      },
      "execution_count": 18,
      "outputs": [
        {
          "output_type": "stream",
          "name": "stdout",
          "text": [
            "2.7182815255731922\n",
            "2.7182818284590455\n"
          ]
        }
      ]
    },
    {
      "cell_type": "code",
      "source": [
        "def fatorial(n):\n",
        "    mult = 1\n",
        "    for i in range(1, n+1):\n",
        "        mult *= i\n",
        "    return mult\n",
        "\n",
        "def euler(n):\n",
        "    serie = [1/fatorial(i) for i in range(0, n)]\n",
        "    return sum(serie)\n",
        "\n",
        "euler(100)"
      ],
      "metadata": {
        "colab": {
          "base_uri": "https://localhost:8080/"
        },
        "id": "oDSuw-MDg2d-",
        "outputId": "098c5865-b08e-4257-a5cf-614bc44207b5"
      },
      "execution_count": 19,
      "outputs": [
        {
          "output_type": "execute_result",
          "data": {
            "text/plain": [
              "2.7182818284590455"
            ]
          },
          "metadata": {},
          "execution_count": 19
        }
      ]
    },
    {
      "cell_type": "markdown",
      "source": [
        "## $\\pi$: Número Pi\n",
        "\n",
        "$$\n",
        "S = \\left\\{ \\frac{1}{1^3}, - \\ \\frac{1}{3^3}, + \\ \\frac{1}{5^3}, + \\ \\dots \\ \\pm \\frac{1}{(2n-1)^3} \\right\\} \\\\\n",
        "\\pi = S^{\\frac{2^5}{3}}\n",
        "$$"
      ],
      "metadata": {
        "id": "p3-d_9p6dW6Q"
      }
    },
    {
      "cell_type": "code",
      "source": [
        "pi = lambda n: (sum([1*(1/((2*n-1)**3)) if i%2 == 1 else -1*(1/((2*n-1)**3)) for i in range(1,n+1)]))**(32/3)\n",
        "pi(50000)"
      ],
      "metadata": {
        "colab": {
          "base_uri": "https://localhost:8080/"
        },
        "id": "3qpUxPnlfY3m",
        "outputId": "ac2f5e77-c647-4a41-fb75-f9243b0e089a"
      },
      "execution_count": 20,
      "outputs": [
        {
          "output_type": "execute_result",
          "data": {
            "text/plain": [
              "0.0"
            ]
          },
          "metadata": {},
          "execution_count": 20
        }
      ]
    },
    {
      "cell_type": "code",
      "source": [
        "1*(1/((2*(6)-1)**3))"
      ],
      "metadata": {
        "colab": {
          "base_uri": "https://localhost:8080/"
        },
        "id": "M4tznDpHGzlk",
        "outputId": "faa25524-0b64-42b1-af3c-e6e2037475f2"
      },
      "execution_count": 21,
      "outputs": [
        {
          "output_type": "execute_result",
          "data": {
            "text/plain": [
              "0.0007513148009015778"
            ]
          },
          "metadata": {},
          "execution_count": 21
        }
      ]
    },
    {
      "cell_type": "markdown",
      "source": [
        "# Gráfico de funções"
      ],
      "metadata": {
        "id": "6FkhxdU7g_K-"
      }
    },
    {
      "cell_type": "code",
      "metadata": {
        "id": "YO40Is9Em_iz",
        "outputId": "68cfb4e7-77c8-4eff-b6b1-e2faf7bc4731",
        "colab": {
          "base_uri": "https://localhost:8080/",
          "height": 350
        }
      },
      "source": [
        "# primeiro grau\n",
        "x = np.linspace(-4, 4, 100)\n",
        "f1 = 2*x\n",
        "\n",
        "plt.figure(figsize=(6,5))\n",
        "plt.xlabel('X')\n",
        "plt.ylabel('Y')\n",
        "plt.grid(True, linestyle= '-.')\n",
        "plt.title('Função do Primeiro Grau')\n",
        "\n",
        "plt.plot(x, f1, color=\"orange\", linewidth=3.0, linestyle=\"-\")\n",
        "# plt.savefig('linear.png', dpi=72)\n",
        "plt.show()"
      ],
      "execution_count": 22,
      "outputs": [
        {
          "output_type": "display_data",
          "data": {
            "text/plain": [
              "<Figure size 432x360 with 1 Axes>"
            ],
            "image/png": "[encoded data removed]"
          },
          "metadata": {
            "needs_background": "light"
          }
        }
      ]
    },
    {
      "cell_type": "code",
      "metadata": {
        "id": "EzHjqryTm_iz",
        "outputId": "134e41a8-a2d0-4acf-91b6-6e5fc58efbdc",
        "colab": {
          "base_uri": "https://localhost:8080/",
          "height": 350
        }
      },
      "source": [
        "# segundo grau\n",
        "x = np.linspace(-4, 4, 100)\n",
        "f2 = x**2\n",
        "\n",
        "plt.figure(figsize=(6,5))\n",
        "plt.xlabel('X')\n",
        "plt.ylabel('Y')\n",
        "plt.grid(True, linestyle= '-.')\n",
        "plt.title('Função do Segundo Grau')\n",
        "\n",
        "plt.plot(x, f2, color='orange', linewidth=3.0, linestyle=\"-\")\n",
        "# plt.savefig('quadratica.png\", dpi=72)\n",
        "plt.show()"
      ],
      "execution_count": 23,
      "outputs": [
        {
          "output_type": "display_data",
          "data": {
            "text/plain": [
              "<Figure size 432x360 with 1 Axes>"
            ],
            "image/png": "[encoded data removed]"
          },
          "metadata": {
            "needs_background": "light"
          }
        }
      ]
    },
    {
      "cell_type": "code",
      "metadata": {
        "id": "SH7H_YfTm_i0",
        "outputId": "fee792d1-92b6-4278-9ebb-14bf55729cb1",
        "colab": {
          "base_uri": "https://localhost:8080/",
          "height": 350
        }
      },
      "source": [
        "# terceiro grau\n",
        "x = np.linspace(-4, 4, 100)\n",
        "f3 = x**3\n",
        "\n",
        "plt.figure(figsize=(6,5))\n",
        "plt.xlabel('X')\n",
        "plt.ylabel('Y')\n",
        "plt.grid(True, linestyle= '-.')\n",
        "plt.title('Função do Terceiro Grau')\n",
        "\n",
        "plt.plot(x, f3, color='orange', linewidth=3.0, linestyle=\"-\")\n",
        "# plt.savefig('cubica.png', dpi=72)\n",
        "plt.show()"
      ],
      "execution_count": 24,
      "outputs": [
        {
          "output_type": "display_data",
          "data": {
            "text/plain": [
              "<Figure size 432x360 with 1 Axes>"
            ],
            "image/png": "[encoded data removed]"
          },
          "metadata": {
            "needs_background": "light"
          }
        }
      ]
    },
    {
      "cell_type": "markdown",
      "metadata": {
        "id": "ITd7XDXQm_i0"
      },
      "source": [
        "# Lista de exercícios 1"
      ]
    },
    {
      "cell_type": "code",
      "metadata": {
        "id": "6YCpo0QVm_i1",
        "outputId": "db1e28d1-b262-4c94-b249-664932f1d11a",
        "colab": {
          "base_uri": "https://localhost:8080/"
        }
      },
      "source": [
        "# 1) a.\n",
        "lim = lambda n: [1/n for n in range(1, n+1)][-1]\n",
        "\n",
        "print(lim(10))\n",
        "print(lim(100))\n",
        "print(lim(1000))\n",
        "print(lim(10000))"
      ],
      "execution_count": 25,
      "outputs": [
        {
          "output_type": "stream",
          "name": "stdout",
          "text": [
            "0.1\n",
            "0.01\n",
            "0.001\n",
            "0.0001\n"
          ]
        }
      ]
    },
    {
      "cell_type": "code",
      "metadata": {
        "id": "I17tqlCbm_i1",
        "outputId": "12963430-d308-40ee-97fb-aa9e612d8b8a",
        "colab": {
          "base_uri": "https://localhost:8080/"
        }
      },
      "source": [
        "# 1) b.\n",
        "soma_serie = lambda k: sum([1/k for i in range(1, k+1)])\n",
        "soma_serie(10)"
      ],
      "execution_count": 26,
      "outputs": [
        {
          "output_type": "execute_result",
          "data": {
            "text/plain": [
              "0.9999999999999999"
            ]
          },
          "metadata": {},
          "execution_count": 26
        }
      ]
    },
    {
      "cell_type": "code",
      "metadata": {
        "id": "tOVWPdwXm_i1",
        "outputId": "8bc257f5-a12f-4cbc-d6b9-17e2bb390eaa",
        "colab": {
          "base_uri": "https://localhost:8080/"
        }
      },
      "source": [
        "# 1) c.\n",
        "soma_serie(100)"
      ],
      "execution_count": 27,
      "outputs": [
        {
          "output_type": "execute_result",
          "data": {
            "text/plain": [
              "1.0000000000000007"
            ]
          },
          "metadata": {},
          "execution_count": 27
        }
      ]
    },
    {
      "cell_type": "code",
      "metadata": {
        "id": "zIGzoYTXm_i1",
        "outputId": "89683f4d-f896-49cc-c948-43d5afa29055",
        "colab": {
          "base_uri": "https://localhost:8080/"
        }
      },
      "source": [
        "# 2) a.\n",
        "def mult_sucessiva(n):\n",
        "    fat = 1\n",
        "    for i in range(1, n+1):\n",
        "        fat *= i\n",
        "        print(fat)\n",
        "\n",
        "mult_sucessiva(9)"
      ],
      "execution_count": 28,
      "outputs": [
        {
          "output_type": "stream",
          "name": "stdout",
          "text": [
            "1\n",
            "2\n",
            "6\n",
            "24\n",
            "120\n",
            "720\n",
            "5040\n",
            "40320\n",
            "362880\n"
          ]
        }
      ]
    },
    {
      "cell_type": "code",
      "metadata": {
        "id": "2Dristclm_i2",
        "outputId": "09d017b6-f3bf-41a9-ce34-f4debeef25ed",
        "colab": {
          "base_uri": "https://localhost:8080/"
        }
      },
      "source": [
        "# 2) b.\n",
        "fatorial = lambda n: 1 if n == 0 else n*fatorial(n-1)\n",
        "fatorial(5)"
      ],
      "execution_count": 29,
      "outputs": [
        {
          "output_type": "execute_result",
          "data": {
            "text/plain": [
              "120"
            ]
          },
          "metadata": {},
          "execution_count": 29
        }
      ]
    },
    {
      "cell_type": "code",
      "metadata": {
        "id": "lXJNlXZrm_i2",
        "outputId": "1ce99fc6-12fa-4520-d5d4-011db9bbe4a8",
        "colab": {
          "base_uri": "https://localhost:8080/"
        }
      },
      "source": [
        "# 2) c.\n",
        "n = 10\n",
        "[1/fatorial(i) for i in range(0, n)]"
      ],
      "execution_count": 30,
      "outputs": [
        {
          "output_type": "execute_result",
          "data": {
            "text/plain": [
              "[1.0,\n",
              " 1.0,\n",
              " 0.5,\n",
              " 0.16666666666666666,\n",
              " 0.041666666666666664,\n",
              " 0.008333333333333333,\n",
              " 0.001388888888888889,\n",
              " 0.0001984126984126984,\n",
              " 2.48015873015873e-05,\n",
              " 2.7557319223985893e-06]"
            ]
          },
          "metadata": {},
          "execution_count": 30
        }
      ]
    },
    {
      "cell_type": "code",
      "metadata": {
        "id": "3JYUdS-Wm_i3",
        "outputId": "e0f9578b-627f-4c36-d39b-4bee71470808",
        "colab": {
          "base_uri": "https://localhost:8080/"
        }
      },
      "source": [
        "# 2) d.\n",
        "n = 100\n",
        "sum([1/fatorial(i) for i in range(0, n)])"
      ],
      "execution_count": 31,
      "outputs": [
        {
          "output_type": "execute_result",
          "data": {
            "text/plain": [
              "2.7182818284590455"
            ]
          },
          "metadata": {},
          "execution_count": 31
        }
      ]
    },
    {
      "cell_type": "markdown",
      "source": [
        "# Limites de funções\n",
        "28 de março de 2019"
      ],
      "metadata": {
        "id": "9HV1thBgnjmG"
      }
    },
    {
      "cell_type": "markdown",
      "metadata": {
        "id": "15PhQIqRm_i3"
      },
      "source": [
        "$$\\lim_{x \\to 1} \\frac{x - 1}{x^2 - 1} \\approx \\frac{1}{2} $$"
      ]
    },
    {
      "cell_type": "code",
      "metadata": {
        "id": "S6bvw_lcm_i4",
        "outputId": "a9b4aa0a-ca1d-463f-f790-1b1a466af3ba",
        "colab": {
          "base_uri": "https://localhost:8080/"
        }
      },
      "source": [
        "X = [0, .1, .2, .3, .4, .5, .6, .7, .8, .9, .95, .99, .99999]\n",
        "fx = lambda x: (x-1)/(x**2-1)\n",
        "\n",
        "for x in X:\n",
        "    print(fx(x))"
      ],
      "execution_count": 32,
      "outputs": [
        {
          "output_type": "stream",
          "name": "stdout",
          "text": [
            "1.0\n",
            "0.9090909090909092\n",
            "0.8333333333333334\n",
            "0.7692307692307692\n",
            "0.7142857142857143\n",
            "0.6666666666666666\n",
            "0.625\n",
            "0.5882352941176472\n",
            "0.5555555555555556\n",
            "0.5263157894736843\n",
            "0.5128205128205131\n",
            "0.5025125628140701\n",
            "0.500002500012707\n"
          ]
        }
      ]
    },
    {
      "cell_type": "markdown",
      "metadata": {
        "id": "k71x2BPzm_i4"
      },
      "source": [
        "$$\\lim_{t \\to 0} \\frac{\\sqrt{t^2 + 9}-3} {t^2}$$"
      ]
    },
    {
      "cell_type": "code",
      "metadata": {
        "id": "JZ8Ptdhrm_i4",
        "outputId": "aa2a9493-1d1e-4e68-fd73-60dd9e8eb4e0",
        "colab": {
          "base_uri": "https://localhost:8080/"
        }
      },
      "source": [
        "X = [.5, .3, .1, .001, .0001, .000001]\n",
        "\n",
        "fx = lambda t: ((t**2+9)**(1/2)-3)/t**2\n",
        "\n",
        "for x in X:\n",
        "    print(fx(x))"
      ],
      "execution_count": 33,
      "outputs": [
        {
          "output_type": "stream",
          "name": "stdout",
          "text": [
            "0.16552506059643868\n",
            "0.16625207040296747\n",
            "0.16662039607266974\n",
            "0.1666666618049817\n",
            "0.1666666804567285\n",
            "0.16653345369377348\n"
          ]
        }
      ]
    },
    {
      "cell_type": "markdown",
      "metadata": {
        "id": "j3seskb-m_i4"
      },
      "source": [
        "#  Funções definidas por partes"
      ]
    },
    {
      "cell_type": "code",
      "source": [
        "# pista de skate\n",
        "def multiple_intervals(x):\n",
        "    if (x < -10 and x >= -19) or (x >= 10 and x <= 19):\n",
        "        return 2500\n",
        "    elif x >= -10 and x < 10:\n",
        "        return (5*x)**2 + (5*x) + 20\n",
        "    else:\n",
        "        return 0 \n",
        "\n",
        "X = np.linspace(-20,20,41)\n",
        "F = [multiple_intervals(x) for x in X]\n",
        "\n",
        "plt.xlabel('eixo X')\n",
        "plt.ylabel('Y')\n",
        "plt.grid(True, linestyle = '-.')\n",
        "plt.title(\"Função definida por parte\")\n",
        "plt.plot(X, F, color=\"blue\", linewidth=3.0, linestyle=\"-\")\n",
        "# plt.savefig(\"multiplas_partes.png\", dpi=72)\n",
        "plt.show()"
      ],
      "metadata": {
        "colab": {
          "base_uri": "https://localhost:8080/",
          "height": 295
        },
        "id": "F1o-YB4Cn-3M",
        "outputId": "dcc0d41a-def1-48a1-a1c6-127bf4ea16c0"
      },
      "execution_count": 34,
      "outputs": [
        {
          "output_type": "display_data",
          "data": {
            "text/plain": [
              "<Figure size 648x288 with 1 Axes>"
            ],
            "image/png": "[encoded data removed]"
          },
          "metadata": {
            "needs_background": "light"
          }
        }
      ]
    },
    {
      "cell_type": "markdown",
      "source": [
        "# *Lambda*"
      ],
      "metadata": {
        "id": "EzVHt-6gvVRq"
      }
    },
    {
      "cell_type": "code",
      "metadata": {
        "id": "T0QY7-Jxm_i5",
        "colab": {
          "base_uri": "https://localhost:8080/"
        },
        "outputId": "37a848b8-1a5f-40a3-a9c0-18ac62d415b6"
      },
      "source": [
        "dobro = lambda x: 2*x\n",
        "quadrado = lambda x: x**2\n",
        "f1 = lambda x: 2*x**3-4*x+3\n",
        "f2 = lambda x, y: x**2+x*y**2+y+1\n",
        "\n",
        "print(dobro(6))\n",
        "print(quadrado(9))\n",
        "print(f1(4))\n",
        "print(f2(6,3))"
      ],
      "execution_count": 35,
      "outputs": [
        {
          "output_type": "stream",
          "name": "stdout",
          "text": [
            "12\n",
            "81\n",
            "115\n",
            "94\n"
          ]
        }
      ]
    },
    {
      "cell_type": "markdown",
      "metadata": {
        "id": "zMY5nbV_m_i6"
      },
      "source": [
        "# Coeficiente diferencial"
      ]
    },
    {
      "cell_type": "markdown",
      "metadata": {
        "id": "jGQEC3gNm_i6"
      },
      "source": [
        "Coeficiente diferencial em matemática descreve a alteração na proporção de uma grandeza em relação a alteração de outra grandeza, dependente da primeira. Em análise usa-se o coeficiente diferencial, para cálculo para definir uma função. Em análise numérica são usados para resolver equações diferenciais e para a determinação aproximada da derivada de uma função utilizada."
      ]
    },
    {
      "cell_type": "markdown",
      "metadata": {
        "id": "JHdBTIrhm_i7"
      },
      "source": [
        "$$\\frac{f(a+h)-f(a)}{h}$$"
      ]
    },
    {
      "cell_type": "code",
      "source": [
        "coeficiente_diff = lambda f, a, h: (f(a+h) - f(a)) / h\n",
        "coeficiente_diff(lambda x: x**2, 1, 4)"
      ],
      "metadata": {
        "colab": {
          "base_uri": "https://localhost:8080/"
        },
        "id": "lBJ8-Rh4v7Hm",
        "outputId": "f856bb3a-00e7-43f8-8198-a43612a7ce6d"
      },
      "execution_count": 36,
      "outputs": [
        {
          "output_type": "execute_result",
          "data": {
            "text/plain": [
              "6.0"
            ]
          },
          "metadata": {},
          "execution_count": 36
        }
      ]
    },
    {
      "cell_type": "code",
      "source": [
        "X = np.linspace(-40, 40, 50)\n",
        "    \n",
        "f1 = [x**2 for x in X]\n",
        "f2 = [x*2 for x in X]\n",
        "\n",
        "plt.xlabel('X')\n",
        "plt.ylabel('Y')\n",
        "plt.grid(True, linestyle = ':')\n",
        "plt.title(\"Coeficiente diferencial\")\n",
        "plt.plot(X, f1, color='r', linewidth=2.0)\n",
        "plt.plot(X, f2, color='g', linewidth=2.0)\n",
        "\n",
        "plt.show()"
      ],
      "metadata": {
        "colab": {
          "base_uri": "https://localhost:8080/",
          "height": 295
        },
        "id": "8SP1nv06wTuo",
        "outputId": "09fcaae7-028e-4380-87d3-597b0e4a3134"
      },
      "execution_count": 37,
      "outputs": [
        {
          "output_type": "display_data",
          "data": {
            "text/plain": [
              "<Figure size 648x288 with 1 Axes>"
            ],
            "image/png": "[encoded data removed]"
          },
          "metadata": {
            "needs_background": "light"
          }
        }
      ]
    },
    {
      "cell_type": "markdown",
      "source": [
        "# Lista de exercícios 2\n",
        "11 de abril de 2019"
      ],
      "metadata": {
        "id": "KeNtkSkz0SK2"
      }
    },
    {
      "cell_type": "markdown",
      "metadata": {
        "id": "4Csc6eztm_i9"
      },
      "source": [
        "# $$Q1. a)$$"
      ]
    },
    {
      "cell_type": "code",
      "metadata": {
        "id": "bKuXpF7Em_i9",
        "outputId": "6f972d0d-ba26-4217-825f-5bd5aa19f574",
        "colab": {
          "base_uri": "https://localhost:8080/"
        }
      },
      "source": [
        "[1/n for n in range(1,8)]"
      ],
      "execution_count": 38,
      "outputs": [
        {
          "output_type": "execute_result",
          "data": {
            "text/plain": [
              "[1.0,\n",
              " 0.5,\n",
              " 0.3333333333333333,\n",
              " 0.25,\n",
              " 0.2,\n",
              " 0.16666666666666666,\n",
              " 0.14285714285714285]"
            ]
          },
          "metadata": {},
          "execution_count": 38
        }
      ]
    },
    {
      "cell_type": "markdown",
      "metadata": {
        "id": "YtCgzxcLm_i9"
      },
      "source": [
        "# $$Q1. b)$$"
      ]
    },
    {
      "cell_type": "code",
      "metadata": {
        "id": "rn2E1lnpm_i9",
        "outputId": "fb05a089-b6db-41ea-dccd-0a76cf1d80cf",
        "colab": {
          "base_uri": "https://localhost:8080/"
        }
      },
      "source": [
        "[1/n for n in range(1,15) if n%2 == 1]"
      ],
      "execution_count": 39,
      "outputs": [
        {
          "output_type": "execute_result",
          "data": {
            "text/plain": [
              "[1.0,\n",
              " 0.3333333333333333,\n",
              " 0.2,\n",
              " 0.14285714285714285,\n",
              " 0.1111111111111111,\n",
              " 0.09090909090909091,\n",
              " 0.07692307692307693]"
            ]
          },
          "metadata": {},
          "execution_count": 39
        }
      ]
    },
    {
      "cell_type": "markdown",
      "metadata": {
        "id": "Ce6RWFecm_i-"
      },
      "source": [
        "# $$Q1. c)$$"
      ]
    },
    {
      "cell_type": "code",
      "metadata": {
        "id": "nncwDXG5m_i-",
        "outputId": "0cf76be7-64fb-42c0-ae9a-de56394bbb62",
        "colab": {
          "base_uri": "https://localhost:8080/"
        }
      },
      "source": [
        "[1/(factorial(n)) for n in range(0,6)]"
      ],
      "execution_count": 40,
      "outputs": [
        {
          "output_type": "execute_result",
          "data": {
            "text/plain": [
              "[1, 1, 1/2, 1/6, 1/24, 1/120]"
            ]
          },
          "metadata": {},
          "execution_count": 40
        }
      ]
    },
    {
      "cell_type": "markdown",
      "metadata": {
        "id": "Kf3kCvEhm_i-"
      },
      "source": [
        "# $$Q1. d)$$"
      ]
    },
    {
      "cell_type": "code",
      "metadata": {
        "id": "hSDGFZmwm_i_",
        "outputId": "ed4fd436-27c6-4da2-90da-c9e147c9237a",
        "colab": {
          "base_uri": "https://localhost:8080/"
        }
      },
      "source": [
        "[1, [2**(-n) for n in range(0,10)]]"
      ],
      "execution_count": 41,
      "outputs": [
        {
          "output_type": "execute_result",
          "data": {
            "text/plain": [
              "[1,\n",
              " [1,\n",
              "  0.5,\n",
              "  0.25,\n",
              "  0.125,\n",
              "  0.0625,\n",
              "  0.03125,\n",
              "  0.015625,\n",
              "  0.0078125,\n",
              "  0.00390625,\n",
              "  0.001953125]]"
            ]
          },
          "metadata": {},
          "execution_count": 41
        }
      ]
    },
    {
      "cell_type": "markdown",
      "metadata": {
        "id": "NUTJMXt4m_i_"
      },
      "source": [
        "# $$Q2.$$"
      ]
    },
    {
      "cell_type": "code",
      "metadata": {
        "id": "9qvZy1Yom_jA",
        "colab": {
          "base_uri": "https://localhost:8080/",
          "height": 37
        },
        "outputId": "93aa4726-c545-40ff-fd6d-cfd6739ec87a"
      },
      "source": [
        "factorial(5)"
      ],
      "execution_count": 42,
      "outputs": [
        {
          "output_type": "execute_result",
          "data": {
            "text/plain": [
              "120"
            ],
            "text/latex": "$\\displaystyle 120$"
          },
          "metadata": {},
          "execution_count": 42
        }
      ]
    },
    {
      "cell_type": "code",
      "metadata": {
        "id": "mrW-N6lAm_jA",
        "outputId": "c7381751-924f-4433-bb67-e1cc4dafe1f7",
        "colab": {
          "base_uri": "https://localhost:8080/"
        }
      },
      "source": [
        "l = [1,2,3,4,5,6]\n",
        "acc = 1\n",
        "for i in l:\n",
        "    acc *= i\n",
        "    print(acc)"
      ],
      "execution_count": 43,
      "outputs": [
        {
          "output_type": "stream",
          "name": "stdout",
          "text": [
            "1\n",
            "2\n",
            "6\n",
            "24\n",
            "120\n",
            "720\n"
          ]
        }
      ]
    },
    {
      "cell_type": "markdown",
      "metadata": {
        "id": "KXq1ubzKm_jB"
      },
      "source": [
        "# $$Q3.$$"
      ]
    },
    {
      "cell_type": "code",
      "metadata": {
        "id": "F90nvSpVm_jB",
        "outputId": "60ba018e-0443-430d-c103-edbf033b5548",
        "colab": {
          "base_uri": "https://localhost:8080/"
        }
      },
      "source": [
        "def serie_harmonica(n):\n",
        "    k = n\n",
        "    l = [1/k for k in range(1, k+1)]\n",
        "    sum = 0\n",
        "    for n in l:\n",
        "        sum = sum + n\n",
        "    return sum\n",
        "\n",
        "serie_harmonica(5)"
      ],
      "execution_count": 44,
      "outputs": [
        {
          "output_type": "execute_result",
          "data": {
            "text/plain": [
              "2.283333333333333"
            ]
          },
          "metadata": {},
          "execution_count": 44
        }
      ]
    },
    {
      "cell_type": "markdown",
      "metadata": {
        "id": "sJVHSSCbm_jB"
      },
      "source": [
        "# $$Q4. a)$$"
      ]
    },
    {
      "cell_type": "markdown",
      "metadata": {
        "id": "9sKyfb97m_jC"
      },
      "source": [
        "$\\sum_{k=1}^{n} \\frac{1}{k}$\n",
        "\n",
        "$\\sum_{k=1}^{n} \\frac{1}{2 * k - 1}$\n",
        "\n",
        "$\\sum_{k=0}^{n} \\frac{1}{k!}$\n",
        "\n",
        "$(\\sum_{k=0}^{n} \\frac{1}{2^{k}})+1$"
      ]
    },
    {
      "cell_type": "markdown",
      "metadata": {
        "id": "cWWddgAjm_jC"
      },
      "source": [
        "# $$Q5. a)$$"
      ]
    },
    {
      "cell_type": "code",
      "metadata": {
        "id": "a0R6xoRUm_jC",
        "outputId": "d4edaf95-a85f-44d4-b935-3a3541be7dd0",
        "colab": {
          "base_uri": "https://localhost:8080/"
        }
      },
      "source": [
        "def function(n):\n",
        "    if n > 0:\n",
        "        k = n\n",
        "        l = [1/k for k in range(1, k+1)]\n",
        "        sum = 0\n",
        "        for n in l:\n",
        "            sum = sum + n\n",
        "        print(sum)\n",
        "function(5)"
      ],
      "execution_count": 45,
      "outputs": [
        {
          "output_type": "stream",
          "name": "stdout",
          "text": [
            "2.283333333333333\n"
          ]
        }
      ]
    },
    {
      "cell_type": "markdown",
      "metadata": {
        "id": "jWP4LSIAm_jD"
      },
      "source": [
        "# $$Q5. b)$$"
      ]
    },
    {
      "cell_type": "code",
      "metadata": {
        "id": "WjGC_dJYm_jD",
        "outputId": "9856a953-bcc3-402f-cecd-a098494055cf",
        "colab": {
          "base_uri": "https://localhost:8080/"
        }
      },
      "source": [
        "print('somatório de (1/k) com k ímpar e com n parcelas')\n",
        "n = int(input('digite o número de parcelas a serem somadas (n > 0)'))\n",
        "if n > 0:\n",
        "    k = n + 1\n",
        "    l = [1/k for k in range(1, k+1) if k%2 == 1]\n",
        "    soma = 0\n",
        "    for n in l:\n",
        "        soma = soma + n\n",
        "    print(soma)"
      ],
      "execution_count": 46,
      "outputs": [
        {
          "output_type": "stream",
          "name": "stdout",
          "text": [
            "somatório de (1/k) com k ímpar e com n parcelas\n",
            "digite o número de parcelas a serem somadas (n > 0)5\n",
            "1.5333333333333332\n"
          ]
        }
      ]
    },
    {
      "cell_type": "markdown",
      "metadata": {
        "id": "f3fzsbfnm_jE"
      },
      "source": [
        "# $$Q5. c)$$"
      ]
    },
    {
      "cell_type": "code",
      "metadata": {
        "id": "33Pz-Op9m_jE",
        "outputId": "25ab5254-7069-41e3-f142-8f8de58f1421",
        "colab": {
          "base_uri": "https://localhost:8080/"
        }
      },
      "source": [
        "def soma(n):\n",
        "    soma = 0\n",
        "    for k in a:\n",
        "        soma = soma + k\n",
        "    return soma\n",
        "\n",
        "def factorial(n):\n",
        "    fac = 1\n",
        "    for i in range(1, n + 1):\n",
        "         fac = fac * i\n",
        "    return fac\n",
        "\n",
        "a = [1/factorial(n) for n in range(0, 7)]\n",
        "soma([])"
      ],
      "execution_count": 47,
      "outputs": [
        {
          "output_type": "execute_result",
          "data": {
            "text/plain": [
              "2.7180555555555554"
            ]
          },
          "metadata": {},
          "execution_count": 47
        }
      ]
    },
    {
      "cell_type": "markdown",
      "metadata": {
        "id": "kyvkKmXBm_jE"
      },
      "source": [
        "# $$Q5.d)$$"
      ]
    },
    {
      "cell_type": "code",
      "metadata": {
        "id": "2ghhXL3-m_jF",
        "outputId": "f9335b7c-2a07-4cd9-baaf-f0b1d6f8b1e4",
        "colab": {
          "base_uri": "https://localhost:8080/"
        }
      },
      "source": [
        "def soma(n):\n",
        "    soma = 0\n",
        "    for i in lista:\n",
        "        soma = soma + i\n",
        "    return soma + 1\n",
        "\n",
        "lista = [1/(2**n) for n in range(0,6)]\n",
        "soma(lista)"
      ],
      "execution_count": 48,
      "outputs": [
        {
          "output_type": "execute_result",
          "data": {
            "text/plain": [
              "2.96875"
            ]
          },
          "metadata": {},
          "execution_count": 48
        }
      ]
    },
    {
      "cell_type": "markdown",
      "metadata": {
        "id": "Ntthilq9m_jF"
      },
      "source": [
        "# $$Q6.$$"
      ]
    },
    {
      "cell_type": "code",
      "metadata": {
        "id": "r1hUNbhcm_jF",
        "outputId": "dc59a179-ecbb-4b90-ca96-b0d58fe792aa",
        "colab": {
          "base_uri": "https://localhost:8080/"
        }
      },
      "source": [
        "def factorial(n):\n",
        "    mult = 1\n",
        "    for i in range(1, n+1):\n",
        "        mult = mult * i\n",
        "    return mult\n",
        "\n",
        "lista = [1/factorial(n) for n in range(0,10)]\n",
        "soma = 0\n",
        "for i in lista:\n",
        "    soma = soma + i\n",
        "print(f'Número de euler = {soma}')"
      ],
      "execution_count": 49,
      "outputs": [
        {
          "output_type": "stream",
          "name": "stdout",
          "text": [
            "Número de euler = 2.7182815255731922\n"
          ]
        }
      ]
    },
    {
      "cell_type": "markdown",
      "metadata": {
        "id": "rti7ZPORm_jF"
      },
      "source": [
        "# $$Q7.$$"
      ]
    },
    {
      "cell_type": "code",
      "metadata": {
        "id": "CRlf8mfbm_jG",
        "outputId": "1d789029-5c26-43aa-c820-d3df59f6ed1a",
        "colab": {
          "base_uri": "https://localhost:8080/"
        }
      },
      "source": [
        "[1/n for n in range(1,10)]\n",
        "print(f'O limite é {1//n+1}')"
      ],
      "execution_count": 50,
      "outputs": [
        {
          "output_type": "stream",
          "name": "stdout",
          "text": [
            "O limite é 5.0\n"
          ]
        }
      ]
    },
    {
      "cell_type": "markdown",
      "metadata": {
        "id": "iRrGdP6Pm_jG"
      },
      "source": [
        "$$\\lim_{n\\to\\infty}\\\n",
        "(1 + {1 \\over 2} + {1 \\over 4} + {1 \\over 8} + {1 \\over 16} = 0 )$$"
      ]
    },
    {
      "cell_type": "markdown",
      "metadata": {
        "id": "vBZvAHT3m_jG"
      },
      "source": [
        "# $$Q8.$$"
      ]
    },
    {
      "cell_type": "code",
      "metadata": {
        "id": "LLpVBxYEm_jG",
        "outputId": "de2072be-bdf4-41e2-cac3-cbe84d166e62",
        "colab": {
          "base_uri": "https://localhost:8080/"
        }
      },
      "source": [
        "[1/(1 - 1/n) for n in range(2,15)]\n",
        "print(f'O limite é {1//1-(1/n+1)}')"
      ],
      "execution_count": 51,
      "outputs": [
        {
          "output_type": "stream",
          "name": "stdout",
          "text": [
            "O limite é -5.0\n"
          ]
        }
      ]
    },
    {
      "cell_type": "markdown",
      "metadata": {
        "id": "KAFX_-jVm_jG"
      },
      "source": [
        "$$ \\lim_{n \\rightarrow \\infty} \\frac{1}{1- \\frac{1}{n}} =1 $$"
      ]
    },
    {
      "cell_type": "markdown",
      "metadata": {
        "id": "JZlyx4Ram_jH"
      },
      "source": [
        "# $$Q9.$$"
      ]
    },
    {
      "cell_type": "code",
      "metadata": {
        "id": "3cNBQLpOm_jH",
        "outputId": "36da5fdf-f33e-4031-8518-86bc0b318c2b",
        "colab": {
          "base_uri": "https://localhost:8080/"
        }
      },
      "source": [
        "def minor(x, y, z):\n",
        "    if z == None:\n",
        "        l = [x, y]       \n",
        "        l.sort()\n",
        "        return l[0]\n",
        "    lista = [x, y, z]       \n",
        "    lista.sort()\n",
        "    return lista[0]\n",
        "    \n",
        "minor(5,9,None)"
      ],
      "execution_count": 52,
      "outputs": [
        {
          "output_type": "execute_result",
          "data": {
            "text/plain": [
              "5"
            ]
          },
          "metadata": {},
          "execution_count": 52
        }
      ]
    },
    {
      "cell_type": "markdown",
      "metadata": {
        "id": "ygT4isX-m_jH"
      },
      "source": [
        "# $$Q10. a)$$"
      ]
    },
    {
      "cell_type": "code",
      "metadata": {
        "id": "A81xjlrGm_jH",
        "outputId": "552c189c-b6dd-40bc-b40a-2014ebcf0446",
        "colab": {
          "base_uri": "https://localhost:8080/",
          "height": 36
        }
      },
      "source": [
        "def typ(n):\n",
        "    if type(n) == str:\n",
        "        return 'É uma string'\n",
        "    else:\n",
        "        return 'Não é string'\n",
        "\n",
        "typ('oi')"
      ],
      "execution_count": 53,
      "outputs": [
        {
          "output_type": "execute_result",
          "data": {
            "text/plain": [
              "'É uma string'"
            ],
            "application/vnd.google.colaboratory.intrinsic+json": {
              "type": "string"
            }
          },
          "metadata": {},
          "execution_count": 53
        }
      ]
    },
    {
      "cell_type": "markdown",
      "metadata": {
        "id": "x37MIHR2m_jI"
      },
      "source": [
        "# $$10. b)$$"
      ]
    },
    {
      "cell_type": "code",
      "metadata": {
        "id": "TYS_9uDlm_jI",
        "outputId": "f99e3102-220c-46aa-e800-2cfc2a1a9984",
        "colab": {
          "base_uri": "https://localhost:8080/",
          "height": 36
        }
      },
      "source": [
        "def soma(x, y):\n",
        "    if type(x) and type(y) == int:\n",
        "        return x + y\n",
        "    else:\n",
        "        return 'Soma somente de números inteiros'\n",
        "    \n",
        "soma(1,2.3)"
      ],
      "execution_count": 54,
      "outputs": [
        {
          "output_type": "execute_result",
          "data": {
            "text/plain": [
              "'Soma somente de números inteiros'"
            ],
            "application/vnd.google.colaboratory.intrinsic+json": {
              "type": "string"
            }
          },
          "metadata": {},
          "execution_count": 54
        }
      ]
    },
    {
      "cell_type": "markdown",
      "metadata": {
        "id": "pLT73g0Gm_jI"
      },
      "source": [
        "# $$Q11. a)$$"
      ]
    },
    {
      "cell_type": "code",
      "metadata": {
        "id": "KrxxJy3Rm_jI",
        "outputId": "da731126-da28-44ef-d5f2-954b7715b251",
        "colab": {
          "base_uri": "https://localhost:8080/"
        }
      },
      "source": [
        "def f(x):\n",
        "    if x != 4:\n",
        "        return 1 / (x - 4)\n",
        "    else:\n",
        "        print('Não existe divisão por zero')\n",
        "f(5)"
      ],
      "execution_count": 55,
      "outputs": [
        {
          "output_type": "execute_result",
          "data": {
            "text/plain": [
              "1.0"
            ]
          },
          "metadata": {},
          "execution_count": 55
        }
      ]
    },
    {
      "cell_type": "markdown",
      "metadata": {
        "id": "3FQwIdA-m_jI"
      },
      "source": [
        "# $$11.b)$$"
      ]
    },
    {
      "cell_type": "code",
      "metadata": {
        "id": "XzIdsQr3m_jJ",
        "outputId": "b20eab27-ed97-4c9a-de31-2e740697a738",
        "colab": {
          "base_uri": "https://localhost:8080/"
        }
      },
      "source": [
        "def f(x):\n",
        "    if x != -4 and x != 4:\n",
        "        return 1 / x**2 - 4\n",
        "    else:\n",
        "        print('Não existe divisão po zero')\n",
        "f(5)"
      ],
      "execution_count": 56,
      "outputs": [
        {
          "output_type": "execute_result",
          "data": {
            "text/plain": [
              "-3.96"
            ]
          },
          "metadata": {},
          "execution_count": 56
        }
      ]
    },
    {
      "cell_type": "markdown",
      "metadata": {
        "id": "Gp2ZyWDKm_jK"
      },
      "source": [
        "# $$11.c)$$"
      ]
    },
    {
      "cell_type": "code",
      "metadata": {
        "id": "5NKfbA3wm_jK",
        "outputId": "3986bcc2-f5f9-4121-9a95-4ea9f4654292",
        "colab": {
          "base_uri": "https://localhost:8080/"
        }
      },
      "source": [
        "def f(x):\n",
        "    if x >= -4:\n",
        "        return (x + 4)**(1/2)\n",
        "    else:\n",
        "        print('Não existe raiz de número negativo')\n",
        "f(-5)"
      ],
      "execution_count": 57,
      "outputs": [
        {
          "output_type": "stream",
          "name": "stdout",
          "text": [
            "Não existe raiz de número negativo\n"
          ]
        }
      ]
    },
    {
      "cell_type": "markdown",
      "metadata": {
        "id": "kAEE_0S9m_jK"
      },
      "source": [
        "# $$11.d)$$"
      ]
    },
    {
      "cell_type": "code",
      "metadata": {
        "id": "pA94cB2Im_jK",
        "outputId": "6ecd1649-da9d-46b8-dc65-fca56f702b3d",
        "colab": {
          "base_uri": "https://localhost:8080/"
        }
      },
      "source": [
        "def f(x):\n",
        "    if x != 1 and x != -1:\n",
        "        return (x - 1) / (x**2 - 1)\n",
        "    else:\n",
        "        print('Não existe divisão por zero')\n",
        "f(1)"
      ],
      "execution_count": 58,
      "outputs": [
        {
          "output_type": "stream",
          "name": "stdout",
          "text": [
            "Não existe divisão por zero\n"
          ]
        }
      ]
    },
    {
      "cell_type": "markdown",
      "metadata": {
        "id": "6g3iqRTgm_jL"
      },
      "source": [
        "# $$Q12.$$"
      ]
    },
    {
      "cell_type": "markdown",
      "metadata": {
        "id": "sGzoEbxHm_jL"
      },
      "source": [
        "$x \\in \\mathbb{R} \\mid x \\ge -4$\n",
        "\n",
        "$x \\in \\mathbb{R} \\mid x \\neq 2 \\mid x \\neq -2$\n",
        "\n",
        "$x \\in \\mathbb{R} \\mid x \\neq -4$\n",
        "\n",
        "$x \\in \\mathbb{R} \\mid x \\neq 1$"
      ]
    },
    {
      "cell_type": "markdown",
      "metadata": {
        "id": "k1fWbbLFm_jL"
      },
      "source": [
        "# $$Q13.$$"
      ]
    },
    {
      "cell_type": "markdown",
      "metadata": {
        "id": "GO-_wtrom_jM"
      },
      "source": [
        "# $$13.a)$$"
      ]
    },
    {
      "cell_type": "code",
      "metadata": {
        "id": "mhK_CtT2m_jM",
        "outputId": "15a2906e-c3cd-4569-ad3b-da8794231579",
        "colab": {
          "base_uri": "https://localhost:8080/"
        }
      },
      "source": [
        "def f(x1, x2, x3, x4, x5, x6):\n",
        "    for n in [x1, x2, x3, x4, x5, x6]:\n",
        "        if n != 1 and n != -1:\n",
        "            print((n - 1) / (n**2 - 1))\n",
        "        else:\n",
        "            print('Não existe divisão por zero')\n",
        "f(0.1,0.3,0.5,0.7,0.9,0.999999999999999)"
      ],
      "execution_count": 59,
      "outputs": [
        {
          "output_type": "stream",
          "name": "stdout",
          "text": [
            "0.9090909090909092\n",
            "0.7692307692307692\n",
            "0.6666666666666666\n",
            "0.5882352941176472\n",
            "0.5263157894736843\n",
            "0.5\n"
          ]
        }
      ]
    },
    {
      "cell_type": "markdown",
      "metadata": {
        "id": "2O4km1VKm_jM"
      },
      "source": [
        "$$\\lim_{x \\to 1} \\frac{x-1}{x^2 - 1} = \\frac{1}{2}$$"
      ]
    },
    {
      "cell_type": "markdown",
      "metadata": {
        "id": "0JDV62smm_jN"
      },
      "source": [
        "# $$13. b)$$"
      ]
    },
    {
      "cell_type": "code",
      "metadata": {
        "id": "Lya17yv1m_jN",
        "outputId": "b1dc4efc-7251-437b-daab-61678d1f54c7",
        "colab": {
          "base_uri": "https://localhost:8080/"
        }
      },
      "source": [
        "def f(x1, x2, x3, x4, x5, x6):\n",
        "    for n in [x1, x2, x3, x4, x5, x6]:\n",
        "        if n != 0:\n",
        "            print(((n**2 + 9)**(1/2) - 3) / (n**2))\n",
        "        else:\n",
        "            print('Não existe divisão por zero')\n",
        "f(0.9, 0.5, 0.3, 0.00001, 0.0000001, 0.0000000001)"
      ],
      "execution_count": 60,
      "outputs": [
        {
          "output_type": "stream",
          "name": "stdout",
          "text": [
            "0.16307648478168543\n",
            "0.16552506059643868\n",
            "0.16625207040296747\n",
            "0.16666668045672847\n",
            "0.17763568394002507\n",
            "0.0\n"
          ]
        }
      ]
    },
    {
      "cell_type": "markdown",
      "metadata": {
        "id": "Of02E8VBm_jO"
      },
      "source": [
        "$$\\lim_{x \\to 0}\\frac{\\sqrt{x^2 + 9}-3}{x^2} = 0$$"
      ]
    },
    {
      "cell_type": "markdown",
      "metadata": {
        "id": "rqJMZ5dRm_jO"
      },
      "source": [
        "# $$Q14.$$"
      ]
    },
    {
      "cell_type": "code",
      "metadata": {
        "id": "A_DePXELm_jO",
        "outputId": "7eae6223-b785-4c25-9b77-086ff7846c4e",
        "colab": {
          "base_uri": "https://localhost:8080/",
          "height": 295
        }
      },
      "source": [
        "x = np.linspace(-4, 4, 100)\n",
        "F1 = 2 * x**3 - 1\n",
        "plt.xlabel('X')\n",
        "plt.ylabel('Y')\n",
        "plt.grid(True, linestyle= '-')\n",
        "plt.title('Plotagem de Funções')\n",
        "\n",
        "plt.plot(x, F1, color=\"purple\", linewidth=4.0, linestyle=\"-\")\n",
        "plt.savefig(\"figura1.png\", dpi=72)\n",
        "plt.show()"
      ],
      "execution_count": 61,
      "outputs": [
        {
          "output_type": "display_data",
          "data": {
            "text/plain": [
              "<Figure size 648x288 with 1 Axes>"
            ],
            "image/png": "[encoded data removed]"
          },
          "metadata": {
            "needs_background": "light"
          }
        }
      ]
    },
    {
      "cell_type": "markdown",
      "metadata": {
        "id": "7LaFL2yxm_jO"
      },
      "source": [
        "# $$Q15.$$"
      ]
    },
    {
      "cell_type": "code",
      "metadata": {
        "id": "-XWk2-1um_jP",
        "outputId": "fd7cd4c7-fb8e-4b9b-8c73-7ed0e48a7c18",
        "colab": {
          "base_uri": "https://localhost:8080/",
          "height": 295
        }
      },
      "source": [
        "def escada(x):\n",
        "    if 0 < x <= 1:\n",
        "        return 0\n",
        "    if 1 <= x < 2:\n",
        "        return 2\n",
        "    if 2 < x < 3:\n",
        "        return 4\n",
        "    if 3 < x < 4:\n",
        "        return 6\n",
        "    if 4 < x < 5:\n",
        "        return 8\n",
        "\n",
        "X = np.linspace(0,5,100)\n",
        "\n",
        "Fm = [escada(x) for x in X]\n",
        "\n",
        "plt.xlabel('eixo X')\n",
        "plt.ylabel('Y')\n",
        "plt.grid(True, linestyle = '-.')\n",
        "plt.title(\"Função definida por parte\")\n",
        "plt.plot(X, Fm, color=\"black\", linewidth=3.0, linestyle=\"-\")\n",
        "plt.savefig(\"multiplas_partes.png\", dpi=72)\n",
        "plt.show()"
      ],
      "execution_count": 62,
      "outputs": [
        {
          "output_type": "display_data",
          "data": {
            "text/plain": [
              "<Figure size 648x288 with 1 Axes>"
            ],
            "image/png": "[encoded data removed]"
          },
          "metadata": {
            "needs_background": "light"
          }
        }
      ]
    },
    {
      "cell_type": "markdown",
      "metadata": {
        "id": "MP2xwna6m_jP"
      },
      "source": [
        "# $$Q16.$$"
      ]
    },
    {
      "cell_type": "markdown",
      "metadata": {
        "id": "ZIMiA59Rm_jP"
      },
      "source": [
        "Coeficiente diferencial em matemática descreve a alteração na proporção de uma grandeza em relação a alteração de outra grandeza, dependente da primeira."
      ]
    },
    {
      "cell_type": "markdown",
      "metadata": {
        "id": "ucI9cV-Hm_jP"
      },
      "source": [
        "# $$Q17.$$"
      ]
    },
    {
      "cell_type": "code",
      "metadata": {
        "id": "hEbX-od0m_jQ"
      },
      "source": [
        "# # função para o coeficiente diferencial\n",
        "# f = lambda x, a, b: a*x + b\n",
        "# coeficiente = lambda f, a, h: (f(a + h) - f(a))/ h\n",
        "\n",
        "# coeficiente(lambda x: a*x + b, 2, 2)"
      ],
      "execution_count": 64,
      "outputs": []
    },
    {
      "cell_type": "markdown",
      "metadata": {
        "id": "uleJNIjpm_jQ"
      },
      "source": [
        "# $$Q18.$$"
      ]
    },
    {
      "cell_type": "code",
      "metadata": {
        "id": "pCQkw1z2m_jQ",
        "outputId": "50823e18-b9e6-4b93-a7da-2ea7ee193092",
        "colab": {
          "base_uri": "https://localhost:8080/"
        }
      },
      "source": [
        "def f(x):\n",
        "    return x**2 + 1\n",
        "    \n",
        "def coeficiente(a, h):\n",
        "    return (f(a + h) - f(a))/ h\n",
        "\n",
        "coeficiente(1,4)"
      ],
      "execution_count": 65,
      "outputs": [
        {
          "output_type": "execute_result",
          "data": {
            "text/plain": [
              "6.0"
            ]
          },
          "metadata": {},
          "execution_count": 65
        }
      ]
    },
    {
      "cell_type": "code",
      "metadata": {
        "id": "3PT5M9PGm_jQ",
        "outputId": "2dfe2359-25c0-4738-9067-358912b94173",
        "colab": {
          "base_uri": "https://localhost:8080/"
        }
      },
      "source": [
        "f = lambda x : x**3 - 2\n",
        "coeficiente = lambda a, h: (f(a + h) - f(a))/h\n",
        "\n",
        "coeficiente(1,4)"
      ],
      "execution_count": 66,
      "outputs": [
        {
          "output_type": "execute_result",
          "data": {
            "text/plain": [
              "31.0"
            ]
          },
          "metadata": {},
          "execution_count": 66
        }
      ]
    },
    {
      "cell_type": "markdown",
      "metadata": {
        "id": "2_dnHoB0m_jR"
      },
      "source": [
        "# $$Q19.$$"
      ]
    },
    {
      "cell_type": "markdown",
      "metadata": {
        "id": "V3AQXtTcm_jR"
      },
      "source": [
        "# $$19.a)$$"
      ]
    },
    {
      "cell_type": "markdown",
      "source": [
        "$$y = x^2 + 1$$"
      ],
      "metadata": {
        "id": "56xo77EOm9iT"
      }
    },
    {
      "cell_type": "code",
      "metadata": {
        "id": "9blvbCKbm_jR",
        "outputId": "60f326b5-7b0f-4ac2-9b15-2f76ec09e8c3",
        "colab": {
          "base_uri": "https://localhost:8080/"
        }
      },
      "source": [
        "h = [1,2,3,4,5,6,7,8,9]\n",
        "f = lambda x: x**2 + 1\n",
        "coeficiente = lambda f, a, h: (f(a + h) - f(a))/h\n",
        "\n",
        "for i in h:\n",
        "    print(coeficiente(f, 1, i))"
      ],
      "execution_count": 67,
      "outputs": [
        {
          "output_type": "stream",
          "name": "stdout",
          "text": [
            "3.0\n",
            "4.0\n",
            "5.0\n",
            "6.0\n",
            "7.0\n",
            "8.0\n",
            "9.0\n",
            "10.0\n",
            "11.0\n"
          ]
        }
      ]
    },
    {
      "cell_type": "markdown",
      "metadata": {
        "id": "GPP2dS0Rm_jR"
      },
      "source": [
        "# $$19.b)$$"
      ]
    },
    {
      "cell_type": "markdown",
      "source": [
        "$$f(x) = x^3 - 2$$"
      ],
      "metadata": {
        "id": "2q-tC3-BnEr_"
      }
    },
    {
      "cell_type": "code",
      "metadata": {
        "id": "w2TghWyIm_jR",
        "outputId": "f1b58f32-fcab-4950-ff7f-6712105a3ee4",
        "colab": {
          "base_uri": "https://localhost:8080/"
        }
      },
      "source": [
        "h = [1,2,3,4,5,6,7,8,9]\n",
        "f = lambda x: x**3 - 2\n",
        "coeficiente = lambda f, a, h: (f(a + h) - f(a))/h\n",
        "\n",
        "for i in h:\n",
        "    print(coeficiente(f, 1, i))"
      ],
      "execution_count": 68,
      "outputs": [
        {
          "output_type": "stream",
          "name": "stdout",
          "text": [
            "7.0\n",
            "13.0\n",
            "21.0\n",
            "31.0\n",
            "43.0\n",
            "57.0\n",
            "73.0\n",
            "91.0\n",
            "111.0\n"
          ]
        }
      ]
    },
    {
      "cell_type": "markdown",
      "metadata": {
        "id": "pKynyyCsm_jS"
      },
      "source": [
        "# $$Q20.$$"
      ]
    },
    {
      "cell_type": "markdown",
      "metadata": {
        "id": "kFCoI86ym_jS"
      },
      "source": [
        "# $$20. a)$$"
      ]
    },
    {
      "cell_type": "markdown",
      "source": [
        "$$y = x^2 + 1$$"
      ],
      "metadata": {
        "id": "ufwHviATnLxN"
      }
    },
    {
      "cell_type": "code",
      "metadata": {
        "id": "WyT8z1HSm_jS",
        "outputId": "c37e8913-abe1-433c-a37d-2096222dec4c",
        "colab": {
          "base_uri": "https://localhost:8080/"
        }
      },
      "source": [
        "h = [1/i**2 for i in range(1,40)]\n",
        "f = lambda x: x**2 + 1\n",
        "coeficiente = lambda f, a, h: (f(a + h) - f(a))/h\n",
        "\n",
        "for i in h:\n",
        "    print(coeficiente(f, 1, i))"
      ],
      "execution_count": 69,
      "outputs": [
        {
          "output_type": "stream",
          "name": "stdout",
          "text": [
            "3.0\n",
            "2.25\n",
            "2.1111111111111125\n",
            "2.0625\n",
            "2.0399999999999974\n",
            "2.027777777777761\n",
            "2.020408163265309\n",
            "2.015625\n",
            "2.012345679012358\n",
            "2.010000000000023\n",
            "2.0082644628098807\n",
            "2.006944444444443\n",
            "2.0059171597633014\n",
            "2.005102040816329\n",
            "2.0044444444443865\n",
            "2.00390625\n",
            "2.00346020761258\n",
            "2.003086419753078\n",
            "2.0027700831024475\n",
            "2.0025000000000404\n",
            "2.002267573695966\n",
            "2.002066115702398\n",
            "2.0018903591684074\n",
            "2.001736111111313\n",
            "2.001600000000048\n",
            "2.0014792899408143\n",
            "2.001371742112392\n",
            "2.001275510204046\n",
            "2.0011890606422558\n",
            "2.0011111111110313\n",
            "2.001040582726271\n",
            "2.0009765625\n",
            "2.0009182736457394\n",
            "2.0008650519029434\n",
            "2.0008163265304413\n",
            "2.0007716049379525\n",
            "2.0007304601900158\n",
            "2.000692520775317\n",
            "2.0006574621956146\n"
          ]
        }
      ]
    },
    {
      "cell_type": "markdown",
      "metadata": {
        "id": "Fb1VniDGm_jS"
      },
      "source": [
        "$$f(x) = x^2 + 1$$"
      ]
    },
    {
      "cell_type": "markdown",
      "metadata": {
        "id": "zeENYPBLm_jT"
      },
      "source": [
        "$$\\lim_{h \\to 0}\\frac{f(1+h) - f(1)}{h}=2$$"
      ]
    },
    {
      "cell_type": "markdown",
      "metadata": {
        "id": "eaOszzI0m_jT"
      },
      "source": [
        "# $$20. b)$$"
      ]
    },
    {
      "cell_type": "markdown",
      "source": [
        "$$f(x) = x^3 - 2$$"
      ],
      "metadata": {
        "id": "Vh0Xkn7bnSxN"
      }
    },
    {
      "cell_type": "code",
      "metadata": {
        "id": "N7PAJbnnm_jT",
        "outputId": "384ad293-30fe-4347-e6f3-b746e852a780",
        "colab": {
          "base_uri": "https://localhost:8080/"
        }
      },
      "source": [
        "h = [1/i**2 for i in range(1,40)]\n",
        "f = lambda x: x**3 - 2\n",
        "coeficiente = lambda f, a, h: (f(a + h) - f(a))/h\n",
        "\n",
        "for i in h:\n",
        "    print(coeficiente(f, 1, i))"
      ],
      "execution_count": 70,
      "outputs": [
        {
          "output_type": "stream",
          "name": "stdout",
          "text": [
            "7.0\n",
            "3.8125\n",
            "3.3456790123456814\n",
            "3.19140625\n",
            "3.121600000000002\n",
            "3.0841049382715964\n",
            "3.061640982923785\n",
            "3.047119140625\n",
            "3.037189452827334\n",
            "3.0301000000000133\n",
            "3.0248616897752676\n",
            "3.0208815586419497\n",
            "3.017786492069636\n",
            "3.0153321532694446\n",
            "3.0133530864197566\n",
            "3.0117340087890625\n",
            "3.01039259587414\n",
            "3.0092687852461966\n",
            "3.0083179226678474\n",
            "3.007506249999903\n",
            "3.006807862978818\n",
            "3.006202615941426\n",
            "3.0056746509625087\n",
            "3.005211347415255\n",
            "3.004802560000047\n",
            "3.004440058121375\n",
            "3.004117108013722\n",
            "3.0038281575382944\n",
            "3.0035685957916463\n",
            "3.0033345679010726\n",
            "3.0031228309911113\n",
            "3.0029306411743164\n",
            "3.002755664163262\n",
            "3.002595904023959\n",
            "3.002449645980898\n",
            "3.0023154101887854\n",
            "3.0021919141418674\n",
            "3.0020780419115054\n",
            "3.0019728188438783\n"
          ]
        }
      ]
    },
    {
      "cell_type": "markdown",
      "metadata": {
        "id": "vMetnOf7m_jT"
      },
      "source": [
        "$$f(x) = x^3 - 2$$"
      ]
    },
    {
      "cell_type": "markdown",
      "metadata": {
        "id": "8eMoJK-Qm_jU"
      },
      "source": [
        "$$\\lim_{h \\to 0}\\frac{f(1+h) - f(1)}{h}=3$$"
      ]
    },
    {
      "cell_type": "markdown",
      "metadata": {
        "id": "4cj68KaVm_jU"
      },
      "source": [
        "# Soma de Riemann"
      ]
    },
    {
      "cell_type": "code",
      "metadata": {
        "id": "03XaVW4ym_jU",
        "outputId": "1dccad86-0f1b-47f6-a1f5-56e2cd1b56dd",
        "colab": {
          "base_uri": "https://localhost:8080/"
        }
      },
      "source": [
        "def soma_riemann(f, a, b, n):\n",
        "    h = (b-a) / n\n",
        "    return sum([f(a + k*h) * h for k in range(1,n+1)])\n",
        "\n",
        "# f(x), a, b, n_retangulos\n",
        "# com n_retangulos maior, o resultado se aproxima do valor da integral\n",
        "print(soma_riemann(f=lambda x: x**2, a=2, b=3, n=10))\n",
        "print(soma_riemann(f=lambda x: x**2, a=2, b=3, n=100))\n",
        "print(soma_riemann(f=lambda x: x**2, a=2, b=3, n=1000))\n",
        "print(soma_riemann(f=lambda x: x**2, a=2, b=3, n=10000))\n",
        "print(soma_riemann(f=lambda x: x**2, a=2, b=3, n=1000000))"
      ],
      "execution_count": 71,
      "outputs": [
        {
          "output_type": "stream",
          "name": "stdout",
          "text": [
            "6.585000000000001\n",
            "6.358349999999998\n",
            "6.335833499999996\n",
            "6.333583334999982\n",
            "6.333335833333419\n"
          ]
        }
      ]
    },
    {
      "cell_type": "code",
      "source": [
        "Y = [soma_riemann(lambda x: x**2, 2, 3, n) for n in range(1,200+1)]\n",
        "\n",
        "plt.xlabel('$n$')\n",
        "plt.ylabel('Soma de Riemann')\n",
        "plt.grid(linestyle=':')\n",
        "plt.title('Área aproximada (Soma de Riemann) x Número de retângulos')\n",
        "plt.plot(range(1,200+1), Y);"
      ],
      "metadata": {
        "colab": {
          "base_uri": "https://localhost:8080/",
          "height": 297
        },
        "id": "W81RzaQIFpFa",
        "outputId": "f1eaed15-947b-4af9-9cad-3389b6fc680e"
      },
      "execution_count": 72,
      "outputs": [
        {
          "output_type": "display_data",
          "data": {
            "text/plain": [
              "<Figure size 648x288 with 1 Axes>"
            ],
            "image/png": "[encoded data removed]"
          },
          "metadata": {
            "needs_background": "light"
          }
        }
      ]
    },
    {
      "cell_type": "code",
      "source": [
        "printing.init_printing()\n",
        "x, y, z, h = symbols('x y z h')\n",
        "a, b, k, m, n = symbols('a b k m n', integer=True)\n",
        "f, g = map(Function, 'fg')"
      ],
      "metadata": {
        "id": "U6S_2JT3W800"
      },
      "execution_count": 73,
      "outputs": []
    },
    {
      "cell_type": "code",
      "source": [
        "# integral indefinida\n",
        "integrate(x**2)"
      ],
      "metadata": {
        "colab": {
          "base_uri": "https://localhost:8080/",
          "height": 54
        },
        "id": "VnwiFxKj1dLW",
        "outputId": "c8f97864-a465-4770-d5c1-a8d015297f8d"
      },
      "execution_count": 74,
      "outputs": [
        {
          "output_type": "execute_result",
          "data": {
            "text/plain": [
              " 3\n",
              "x \n",
              "──\n",
              "3 "
            ],
            "image/png": "[encoded data removed]",
            "text/latex": "$\\displaystyle \\frac{x^{3}}{3}$"
          },
          "metadata": {},
          "execution_count": 74
        }
      ]
    },
    {
      "cell_type": "code",
      "source": [
        "# resultado da integral definida, usando a função obtida\n",
        "# é a subtração das áreas: (b - a)\n",
        "a = 2\n",
        "b = 3\n",
        "print((b**3)/3 - (a**3)/3)"
      ],
      "metadata": {
        "id": "nkIjZ39c1gjE",
        "colab": {
          "base_uri": "https://localhost:8080/"
        },
        "outputId": "eb1903ff-a00c-4a38-c53e-63930f6b3031"
      },
      "execution_count": 134,
      "outputs": [
        {
          "output_type": "stream",
          "name": "stdout",
          "text": [
            "6.333333333333334\n"
          ]
        }
      ]
    },
    {
      "cell_type": "code",
      "source": [
        "# mesmo valor do obtido na soma de riemann, para n grande\n",
        "print(19/3)"
      ],
      "metadata": {
        "colab": {
          "base_uri": "https://localhost:8080/"
        },
        "id": "FpfezJrIBXTF",
        "outputId": "9a0a6b9b-518c-419a-ce1b-08401f76ccb2"
      },
      "execution_count": 76,
      "outputs": [
        {
          "output_type": "stream",
          "name": "stdout",
          "text": [
            "6.333333333333333\n"
          ]
        }
      ]
    },
    {
      "cell_type": "markdown",
      "source": [
        "# Relações trigonométricas no círculo"
      ],
      "metadata": {
        "id": "Bf3QB66PIWRs"
      }
    },
    {
      "cell_type": "code",
      "source": [
        "X = np.linspace(-np.pi, 3*np.pi, 100)\n",
        "Y = np.sin(X)\n",
        "\n",
        "plt.title('função seno')\n",
        "plt.xlabel('$X$')\n",
        "plt.ylabel('$Y$')\n",
        "plt.grid(linestyle=':')\n",
        "plt.plot(X, Y, color='r');"
      ],
      "metadata": {
        "colab": {
          "base_uri": "https://localhost:8080/",
          "height": 297
        },
        "id": "yPFfUPdcIa68",
        "outputId": "7b7637ef-ae7e-4ac8-a207-00dd82bfc2ff"
      },
      "execution_count": 77,
      "outputs": [
        {
          "output_type": "display_data",
          "data": {
            "text/plain": [
              "<Figure size 648x288 with 1 Axes>"
            ],
            "image/png": "[encoded data removed]"
          },
          "metadata": {
            "needs_background": "light"
          }
        }
      ]
    },
    {
      "cell_type": "code",
      "source": [
        "# desabilitando as saídas em LaTeX\n",
        "printing.init_printing(pretty_print=False)"
      ],
      "metadata": {
        "id": "beuewt_dPjKH"
      },
      "execution_count": 138,
      "outputs": []
    },
    {
      "cell_type": "markdown",
      "source": [
        "# `map`, `filter` e `reduce`"
      ],
      "metadata": {
        "id": "HNx8wNUwJAej"
      }
    },
    {
      "cell_type": "code",
      "source": [
        "list(map(lambda x: 2*x, [1, 2, 3, 4, 5, 6, 7, 8, 9]))"
      ],
      "metadata": {
        "id": "n_t5tABGIg87",
        "colab": {
          "base_uri": "https://localhost:8080/"
        },
        "outputId": "773c04e9-7f56-4a38-ff92-1cb6bc049459"
      },
      "execution_count": 139,
      "outputs": [
        {
          "output_type": "execute_result",
          "data": {
            "text/plain": [
              "[2, 4, 6, 8, 10, 12, 14, 16, 18]"
            ]
          },
          "metadata": {},
          "execution_count": 139
        }
      ]
    },
    {
      "cell_type": "code",
      "source": [
        "list(filter(lambda x: x%2 == 0, [1, 2, 3, 4, 5, 6, 7, 8, 9]))"
      ],
      "metadata": {
        "colab": {
          "base_uri": "https://localhost:8080/"
        },
        "id": "h26EXaZwTFaw",
        "outputId": "a8a11725-066e-48b2-a5ef-b245af280b09"
      },
      "execution_count": 140,
      "outputs": [
        {
          "output_type": "execute_result",
          "data": {
            "text/plain": [
              "[2, 4, 6, 8]"
            ]
          },
          "metadata": {},
          "execution_count": 140
        }
      ]
    },
    {
      "cell_type": "code",
      "source": [
        "reduce(lambda x, y: x+y, [1, 2, 3, 4, 5, 6, 7, 8, 9])"
      ],
      "metadata": {
        "colab": {
          "base_uri": "https://localhost:8080/"
        },
        "id": "9lGtpXDjTQrz",
        "outputId": "0c6e4b17-6518-4ec5-9c12-bce3a498ea16"
      },
      "execution_count": 141,
      "outputs": [
        {
          "output_type": "execute_result",
          "data": {
            "text/plain": [
              "45"
            ]
          },
          "metadata": {},
          "execution_count": 141
        }
      ]
    },
    {
      "cell_type": "code",
      "source": [
        "print(reduce(lambda x, y: x if x>y else y, [1, 2, 3, 4, 5, 6, 7, 8, 9]))\n",
        "print(reduce(lambda x, y: x if x<y else y, [1, 2, 3, 4, 5, 6, 7, 8, 9]))"
      ],
      "metadata": {
        "colab": {
          "base_uri": "https://localhost:8080/"
        },
        "id": "se-1ShpXTk8B",
        "outputId": "c6042f73-f461-4e19-fadb-53fcd9f5522e"
      },
      "execution_count": 142,
      "outputs": [
        {
          "output_type": "stream",
          "name": "stdout",
          "text": [
            "9\n",
            "1\n"
          ]
        }
      ]
    },
    {
      "cell_type": "markdown",
      "source": [
        "# Matemática simbólica\n",
        "09 de maio de 2019"
      ],
      "metadata": {
        "id": "aYOG1JFEJEcv"
      }
    },
    {
      "cell_type": "code",
      "source": [
        "# habilitando as saídas em LaTeX\n",
        "printing.init_printing(pretty_print=True)"
      ],
      "metadata": {
        "id": "4NfLmAC3P5FQ"
      },
      "execution_count": 143,
      "outputs": []
    },
    {
      "cell_type": "code",
      "source": [
        "equation = Eq(x**3 + 2*x**2 + 4*x + 8, 0)\n",
        "display(equation)\n",
        "display(simplify(equation))\n",
        "\n",
        "# resolvendo para x\n",
        "solve(equation, x)"
      ],
      "metadata": {
        "colab": {
          "base_uri": "https://localhost:8080/",
          "height": 83
        },
        "id": "GRFcg_FlJHuy",
        "outputId": "91b2b7bb-d82a-434c-e1b7-63d7f13ee9f3"
      },
      "execution_count": 144,
      "outputs": [
        {
          "output_type": "display_data",
          "data": {
            "text/plain": [
              " 3      2              \n",
              "x  + 2⋅x  + 4⋅x + 8 = 0"
            ],
            "image/png": "[encoded data removed]",
            "text/latex": "$\\displaystyle x^{3} + 2 x^{2} + 4 x + 8 = 0$"
          },
          "metadata": {}
        },
        {
          "output_type": "display_data",
          "data": {
            "text/plain": [
              " 3      2           \n",
              "x  + 2⋅x  + 4⋅x = -8"
            ],
            "image/png": "[encoded data removed]",
            "text/latex": "$\\displaystyle x^{3} + 2 x^{2} + 4 x = -8$"
          },
          "metadata": {}
        },
        {
          "output_type": "execute_result",
          "data": {
            "text/plain": [
              "[-2, -2⋅ⅈ, 2⋅ⅈ]"
            ],
            "image/png": "[encoded data removed]",
            "text/latex": "$\\displaystyle \\left[ -2, \\  - 2 i, \\  2 i\\right]$"
          },
          "metadata": {},
          "execution_count": 144
        }
      ]
    },
    {
      "cell_type": "code",
      "source": [
        "equation = Eq(2*x**2 + 4*x + 8, 0)\n",
        "display(equation)\n",
        "display(simplify(equation))\n",
        "\n",
        "# resolvendo para x\n",
        "solve(equation, x)"
      ],
      "metadata": {
        "colab": {
          "base_uri": "https://localhost:8080/",
          "height": 92
        },
        "id": "j4z4qYWOOGLc",
        "outputId": "ddf74191-5152-47a4-b16b-6a24c9bd508d"
      },
      "execution_count": 83,
      "outputs": [
        {
          "output_type": "display_data",
          "data": {
            "text/plain": [
              "   2              \n",
              "2⋅x  + 4⋅x + 8 = 0"
            ],
            "image/png": "[encoded data removed]",
            "text/latex": "$\\displaystyle 2 x^{2} + 4 x + 8 = 0$"
          },
          "metadata": {}
        },
        {
          "output_type": "display_data",
          "data": {
            "text/plain": [
              " 2           \n",
              "x  + 2⋅x = -4"
            ],
            "image/png": "[encoded data removed]",
            "text/latex": "$\\displaystyle x^{2} + 2 x = -4$"
          },
          "metadata": {}
        },
        {
          "output_type": "execute_result",
          "data": {
            "text/plain": [
              "[-1 - √3⋅ⅈ, -1 + √3⋅ⅈ]"
            ],
            "image/png": "[encoded data removed]",
            "text/latex": "$\\displaystyle \\left[ -1 - \\sqrt{3} i, \\  -1 + \\sqrt{3} i\\right]$"
          },
          "metadata": {},
          "execution_count": 83
        }
      ]
    },
    {
      "cell_type": "code",
      "source": [
        "function = ((1 + h)**2 - 1) / h\n",
        "display(function)\n",
        "\n",
        "display(limit(function, h, 0))"
      ],
      "metadata": {
        "colab": {
          "base_uri": "https://localhost:8080/",
          "height": 77
        },
        "id": "NRXUzm99ObpH",
        "outputId": "6ed2df99-b5b9-4dee-f633-738ef0e0f79f"
      },
      "execution_count": 84,
      "outputs": [
        {
          "output_type": "display_data",
          "data": {
            "text/plain": [
              "       2    \n",
              "(h + 1)  - 1\n",
              "────────────\n",
              "     h      "
            ],
            "image/png": "[encoded data removed]",
            "text/latex": "$\\displaystyle \\frac{\\left(h + 1\\right)^{2} - 1}{h}$"
          },
          "metadata": {}
        },
        {
          "output_type": "display_data",
          "data": {
            "text/plain": [
              "2"
            ],
            "image/png": "[encoded data removed]",
            "text/latex": "$\\displaystyle 2$"
          },
          "metadata": {}
        }
      ]
    },
    {
      "cell_type": "code",
      "source": [
        "function = x**3 + 1\n",
        "display(function)\n",
        "\n",
        "# derivada\n",
        "diff(function, x)"
      ],
      "metadata": {
        "colab": {
          "base_uri": "https://localhost:8080/",
          "height": 61
        },
        "id": "u17Tv8IjOjy4",
        "outputId": "8fa1cc84-e24a-49ea-b12f-5812c56f284c"
      },
      "execution_count": 85,
      "outputs": [
        {
          "output_type": "display_data",
          "data": {
            "text/plain": [
              " 3    \n",
              "x  + 1"
            ],
            "image/png": "[encoded data removed]",
            "text/latex": "$\\displaystyle x^{3} + 1$"
          },
          "metadata": {}
        },
        {
          "output_type": "execute_result",
          "data": {
            "text/plain": [
              "   2\n",
              "3⋅x "
            ],
            "image/png": "[encoded data removed]",
            "text/latex": "$\\displaystyle 3 x^{2}$"
          },
          "metadata": {},
          "execution_count": 85
        }
      ]
    },
    {
      "cell_type": "code",
      "source": [
        "function = (cos(x))**2 / (1 + x)\n",
        "display(function)\n",
        "\n",
        "# derivada\n",
        "diff(function, x)"
      ],
      "metadata": {
        "colab": {
          "base_uri": "https://localhost:8080/",
          "height": 99
        },
        "id": "WaITIu38O8WC",
        "outputId": "f85882c3-2067-4cae-f4a6-d056376e1ada"
      },
      "execution_count": 86,
      "outputs": [
        {
          "output_type": "display_data",
          "data": {
            "text/plain": [
              "   2   \n",
              "cos (x)\n",
              "───────\n",
              " x + 1 "
            ],
            "image/png": "[encoded data removed]",
            "text/latex": "$\\displaystyle \\frac{\\cos^{2}{\\left(x \\right)}}{x + 1}$"
          },
          "metadata": {}
        },
        {
          "output_type": "execute_result",
          "data": {
            "text/plain": [
              "                       2    \n",
              "  2⋅sin(x)⋅cos(x)   cos (x) \n",
              "- ─────────────── - ────────\n",
              "       x + 1               2\n",
              "                    (x + 1) "
            ],
            "image/png": "[encoded data removed]",
            "text/latex": "$\\displaystyle - \\frac{2 \\sin{\\left(x \\right)} \\cos{\\left(x \\right)}}{x + 1} - \\frac{\\cos^{2}{\\left(x \\right)}}{\\left(x + 1\\right)^{2}}$"
          },
          "metadata": {},
          "execution_count": 86
        }
      ]
    },
    {
      "cell_type": "code",
      "source": [
        "function = (x + 1)**7\n",
        "display(function)\n",
        "expand(function)"
      ],
      "metadata": {
        "colab": {
          "base_uri": "https://localhost:8080/",
          "height": 62
        },
        "id": "xMYy6CnxPSBF",
        "outputId": "dc4621e7-e2b7-42c1-afd2-e8feb75a0ebd"
      },
      "execution_count": 87,
      "outputs": [
        {
          "output_type": "display_data",
          "data": {
            "text/plain": [
              "       7\n",
              "(x + 1) "
            ],
            "image/png": "[encoded data removed]",
            "text/latex": "$\\displaystyle \\left(x + 1\\right)^{7}$"
          },
          "metadata": {}
        },
        {
          "output_type": "execute_result",
          "data": {
            "text/plain": [
              " 7      6       5       4       3       2          \n",
              "x  + 7⋅x  + 21⋅x  + 35⋅x  + 35⋅x  + 21⋅x  + 7⋅x + 1"
            ],
            "image/png": "[encoded data removed]",
            "text/latex": "$\\displaystyle x^{7} + 7 x^{6} + 21 x^{5} + 35 x^{4} + 35 x^{3} + 21 x^{2} + 7 x + 1$"
          },
          "metadata": {},
          "execution_count": 87
        }
      ]
    },
    {
      "cell_type": "code",
      "source": [
        "function = (x + 1)**2\n",
        "display(function)\n",
        "expand(function)"
      ],
      "metadata": {
        "colab": {
          "base_uri": "https://localhost:8080/",
          "height": 62
        },
        "id": "up3p1rAmQJGJ",
        "outputId": "154cbffd-376b-4a0b-9b54-454b54b464b1"
      },
      "execution_count": 88,
      "outputs": [
        {
          "output_type": "display_data",
          "data": {
            "text/plain": [
              "       2\n",
              "(x + 1) "
            ],
            "image/png": "[encoded data removed]",
            "text/latex": "$\\displaystyle \\left(x + 1\\right)^{2}$"
          },
          "metadata": {}
        },
        {
          "output_type": "execute_result",
          "data": {
            "text/plain": [
              " 2          \n",
              "x  + 2⋅x + 1"
            ],
            "image/png": "[encoded data removed]",
            "text/latex": "$\\displaystyle x^{2} + 2 x + 1$"
          },
          "metadata": {},
          "execution_count": 88
        }
      ]
    },
    {
      "cell_type": "code",
      "source": [
        "equation = Eq(x**3 - 1, 0)\n",
        "display(equation)\n",
        "solve(equation)"
      ],
      "metadata": {
        "colab": {
          "base_uri": "https://localhost:8080/",
          "height": 90
        },
        "id": "-V-VI3EhPyp3",
        "outputId": "7be493a6-775d-4c36-dbcf-f93684360020"
      },
      "execution_count": 89,
      "outputs": [
        {
          "output_type": "display_data",
          "data": {
            "text/plain": [
              " 3        \n",
              "x  - 1 = 0"
            ],
            "image/png": "[encoded data removed]",
            "text/latex": "$\\displaystyle x^{3} - 1 = 0$"
          },
          "metadata": {}
        },
        {
          "output_type": "execute_result",
          "data": {
            "text/plain": [
              "⎡     1   √3⋅ⅈ    1   √3⋅ⅈ⎤\n",
              "⎢1, - ─ - ────, - ─ + ────⎥\n",
              "⎣     2    2      2    2  ⎦"
            ],
            "image/png": "[encoded data removed]",
            "text/latex": "$\\displaystyle \\left[ 1, \\  - \\frac{1}{2} - \\frac{\\sqrt{3} i}{2}, \\  - \\frac{1}{2} + \\frac{\\sqrt{3} i}{2}\\right]$"
          },
          "metadata": {},
          "execution_count": 89
        }
      ]
    },
    {
      "cell_type": "code",
      "source": [
        "equation = Eq(x**3 - 1, 4)\n",
        "display(equation)\n",
        "solve(equation)"
      ],
      "metadata": {
        "colab": {
          "base_uri": "https://localhost:8080/",
          "height": 90
        },
        "id": "CDR6iDzlP9kY",
        "outputId": "c4670b0b-aa6a-40ba-fd3b-846b178b1282"
      },
      "execution_count": 90,
      "outputs": [
        {
          "output_type": "display_data",
          "data": {
            "text/plain": [
              " 3        \n",
              "x  - 1 = 4"
            ],
            "image/png": "[encoded data removed]",
            "text/latex": "$\\displaystyle x^{3} - 1 = 4$"
          },
          "metadata": {}
        },
        {
          "output_type": "execute_result",
          "data": {
            "text/plain": [
              "⎡         3 ___      3 ___      3 ___      3 ___  ⎤\n",
              "⎢3 ___    ╲╱ 5    √3⋅╲╱ 5 ⋅ⅈ    ╲╱ 5    √3⋅╲╱ 5 ⋅ⅈ⎥\n",
              "⎢╲╱ 5 , - ───── - ──────────, - ───── + ──────────⎥\n",
              "⎣           2         2           2         2     ⎦"
            ],
            "image/png": "[encoded data removed]",
            "text/latex": "$\\displaystyle \\left[ \\sqrt[3]{5}, \\  - \\frac{\\sqrt[3]{5}}{2} - \\frac{\\sqrt{3} \\sqrt[3]{5} i}{2}, \\  - \\frac{\\sqrt[3]{5}}{2} + \\frac{\\sqrt{3} \\sqrt[3]{5} i}{2}\\right]$"
          },
          "metadata": {},
          "execution_count": 90
        }
      ]
    },
    {
      "cell_type": "markdown",
      "source": [
        "# Derivadas\n",
        "16 de maio de 2019"
      ],
      "metadata": {
        "id": "JmmRwwaxQlc5"
      }
    },
    {
      "cell_type": "markdown",
      "metadata": {
        "id": "GNLsh9him_jZ"
      },
      "source": [
        "No cálculo, a derivada em um ponto de uma função ${\\displaystyle y = f(x)}$ representa a taxa de variação instantânea de ${\\displaystyle y}$ em relação a ${\\displaystyle x}$  neste ponto."
      ]
    },
    {
      "cell_type": "code",
      "metadata": {
        "id": "XcxTq18hm_je",
        "outputId": "85c5a624-0f0f-4ca3-df38-a65c40738b93",
        "colab": {
          "base_uri": "https://localhost:8080/",
          "height": 128
        }
      },
      "source": [
        "f = 2*sin(x) + cos(x)\n",
        "\n",
        "display(f)\n",
        "display(diff(f))\n",
        "display(diff(diff(f)))\n",
        "display(diff(diff(diff(f))))\n",
        "display(diff(diff(diff(diff(f)))))"
      ],
      "execution_count": 91,
      "outputs": [
        {
          "output_type": "display_data",
          "data": {
            "text/plain": [
              "2⋅sin(x) + cos(x)"
            ],
            "image/png": "[encoded data removed]",
            "text/latex": "$\\displaystyle 2 \\sin{\\left(x \\right)} + \\cos{\\left(x \\right)}$"
          },
          "metadata": {}
        },
        {
          "output_type": "display_data",
          "data": {
            "text/plain": [
              "-sin(x) + 2⋅cos(x)"
            ],
            "image/png": "[encoded data removed]",
            "text/latex": "$\\displaystyle - \\sin{\\left(x \\right)} + 2 \\cos{\\left(x \\right)}$"
          },
          "metadata": {}
        },
        {
          "output_type": "display_data",
          "data": {
            "text/plain": [
              "-2⋅sin(x) - cos(x)"
            ],
            "image/png": "[encoded data removed]",
            "text/latex": "$\\displaystyle - 2 \\sin{\\left(x \\right)} - \\cos{\\left(x \\right)}$"
          },
          "metadata": {}
        },
        {
          "output_type": "display_data",
          "data": {
            "text/plain": [
              "sin(x) - 2⋅cos(x)"
            ],
            "image/png": "[encoded data removed]",
            "text/latex": "$\\displaystyle \\sin{\\left(x \\right)} - 2 \\cos{\\left(x \\right)}$"
          },
          "metadata": {}
        },
        {
          "output_type": "display_data",
          "data": {
            "text/plain": [
              "2⋅sin(x) + cos(x)"
            ],
            "image/png": "[encoded data removed]",
            "text/latex": "$\\displaystyle 2 \\sin{\\left(x \\right)} + \\cos{\\left(x \\right)}$"
          },
          "metadata": {}
        }
      ]
    },
    {
      "cell_type": "code",
      "metadata": {
        "id": "_bmANKD2m_jf",
        "outputId": "6ddb5d34-0757-4f28-f56e-6a30006306cc",
        "colab": {
          "base_uri": "https://localhost:8080/",
          "height": 168
        }
      },
      "source": [
        "f = 3*x**5 - x**3 + 4*x**2 - 5*x + 8\n",
        "\n",
        "display(f)\n",
        "display(diff(f))\n",
        "display(diff(diff(f)))\n",
        "display(diff(diff(diff(f))))\n",
        "display(diff(diff(diff(diff(f)))))\n",
        "display(diff(diff(diff(diff(diff(f))))))\n",
        "display(diff(diff(diff(diff(diff(diff(f)))))))"
      ],
      "execution_count": 92,
      "outputs": [
        {
          "output_type": "display_data",
          "data": {
            "text/plain": [
              "   5    3      2          \n",
              "3⋅x  - x  + 4⋅x  - 5⋅x + 8"
            ],
            "image/png": "[encoded data removed]",
            "text/latex": "$\\displaystyle 3 x^{5} - x^{3} + 4 x^{2} - 5 x + 8$"
          },
          "metadata": {}
        },
        {
          "output_type": "display_data",
          "data": {
            "text/plain": [
              "    4      2          \n",
              "15⋅x  - 3⋅x  + 8⋅x - 5"
            ],
            "image/png": "[encoded data removed]",
            "text/latex": "$\\displaystyle 15 x^{4} - 3 x^{2} + 8 x - 5$"
          },
          "metadata": {}
        },
        {
          "output_type": "display_data",
          "data": {
            "text/plain": [
              "    3          \n",
              "60⋅x  - 6⋅x + 8"
            ],
            "image/png": "[encoded data removed]",
            "text/latex": "$\\displaystyle 60 x^{3} - 6 x + 8$"
          },
          "metadata": {}
        },
        {
          "output_type": "display_data",
          "data": {
            "text/plain": [
              "     2    \n",
              "180⋅x  - 6"
            ],
            "image/png": "[encoded data removed]",
            "text/latex": "$\\displaystyle 180 x^{2} - 6$"
          },
          "metadata": {}
        },
        {
          "output_type": "display_data",
          "data": {
            "text/plain": [
              "360⋅x"
            ],
            "image/png": "[encoded data removed]",
            "text/latex": "$\\displaystyle 360 x$"
          },
          "metadata": {}
        },
        {
          "output_type": "display_data",
          "data": {
            "text/plain": [
              "360"
            ],
            "image/png": "[encoded data removed]",
            "text/latex": "$\\displaystyle 360$"
          },
          "metadata": {}
        },
        {
          "output_type": "display_data",
          "data": {
            "text/plain": [
              "0"
            ],
            "image/png": "[encoded data removed]",
            "text/latex": "$\\displaystyle 0$"
          },
          "metadata": {}
        }
      ]
    },
    {
      "cell_type": "markdown",
      "metadata": {
        "id": "K9wgzsGhm_ja"
      },
      "source": [
        "**Exercícios**\n",
        "1. Encontre as derivadas de todas as ordens de $f(x) = 3x^{5} - x^{3} + 4x^{2} - 5x + 8$\n",
        "\n",
        "1. Determine $f^{(4)}(x)$ para $f(x) = \\mathrm{\\sin}(x) - 2\\mathrm{\\cos}(x) + x^{4} + 7$\n",
        "\n",
        "1. Calcule $f^{(n)}(x)$ para $f(x) = e^x$\n",
        "\n",
        "1. Calcule $f^{(n)}(x)$ para $f(x) = e^{2x}$\n",
        "\n",
        "1. Calcule $f'''(x)$ para $f(x) = {1 \\over x}$\n",
        "\n",
        "1. Calcule $f^{(n)}(x)$ para $f(x) = {1 \\over x}$"
      ]
    },
    {
      "cell_type": "markdown",
      "metadata": {
        "id": "SxiB3zh5m_ja"
      },
      "source": [
        "# Máximos, mínimos e pontos de inflexão"
      ]
    },
    {
      "cell_type": "markdown",
      "metadata": {
        "id": "ZWaYqYi_m_ja"
      },
      "source": [
        "Um ponto crítico, também chamado de ponto estacionário, é um ponto no domínio de uma função onde a primeira derivada é nula ou não é definida. Os pontos críticos serão sempre pontos de máximos ou mínimos relativos ou pontos de inflexão"
      ]
    },
    {
      "cell_type": "markdown",
      "metadata": {
        "id": "skhMNHlkm_jb"
      },
      "source": [
        "**Exercícios**\n",
        "\n",
        "Faça um estudo dos pontos em que as funções a seguir são *crescentes* ou *decrescentes*, assinalando também os pontos de *máximo*, *mínimo* e *inflexão*:\n",
        "\n",
        "1. $f(x) = x^4 - 10 x^2$\n",
        "\n",
        "1. $f(x) = x^3 + 2$\n",
        "\n",
        "1. $y = x^2 + x -4$\n",
        "\n",
        "1. $f(x) = x^3 - 2x^2 - 5x + 6$\n",
        "\n",
        "1. $y = -4x^3 + 3x^2 + 18x$\n",
        "\n",
        "1. $f(x) = + {x^3 \\over 2} -3x^2 + 6x $"
      ]
    },
    {
      "cell_type": "code",
      "source": [
        "def successive_diff(f, n='all'):\n",
        "    display(f)\n",
        "    if n == 'all':\n",
        "        zero = False\n",
        "        while zero == False:\n",
        "            f = diff(f)\n",
        "            display(f)\n",
        "            if f == 0:\n",
        "                zero = True\n",
        "    else:\n",
        "        for i in range(1, n+1):\n",
        "            f = diff(f)\n",
        "            display(f)"
      ],
      "metadata": {
        "id": "JYeJsZFZY4Gs"
      },
      "execution_count": 93,
      "outputs": []
    },
    {
      "cell_type": "code",
      "source": [
        "successive_diff(x**4 - 10*x**2)"
      ],
      "metadata": {
        "colab": {
          "base_uri": "https://localhost:8080/",
          "height": 146
        },
        "id": "BScazBBpaNZs",
        "outputId": "267fd98d-dda1-4d3d-8251-8cde11c3d2c7"
      },
      "execution_count": 94,
      "outputs": [
        {
          "output_type": "display_data",
          "data": {
            "text/plain": [
              " 4       2\n",
              "x  - 10⋅x "
            ],
            "image/png": "[encoded data removed]",
            "text/latex": "$\\displaystyle x^{4} - 10 x^{2}$"
          },
          "metadata": {}
        },
        {
          "output_type": "display_data",
          "data": {
            "text/plain": [
              "   3       \n",
              "4⋅x  - 20⋅x"
            ],
            "image/png": "[encoded data removed]",
            "text/latex": "$\\displaystyle 4 x^{3} - 20 x$"
          },
          "metadata": {}
        },
        {
          "output_type": "display_data",
          "data": {
            "text/plain": [
              "    2     \n",
              "12⋅x  - 20"
            ],
            "image/png": "[encoded data removed]",
            "text/latex": "$\\displaystyle 12 x^{2} - 20$"
          },
          "metadata": {}
        },
        {
          "output_type": "display_data",
          "data": {
            "text/plain": [
              "24⋅x"
            ],
            "image/png": "[encoded data removed]",
            "text/latex": "$\\displaystyle 24 x$"
          },
          "metadata": {}
        },
        {
          "output_type": "display_data",
          "data": {
            "text/plain": [
              "24"
            ],
            "image/png": "[encoded data removed]",
            "text/latex": "$\\displaystyle 24$"
          },
          "metadata": {}
        },
        {
          "output_type": "display_data",
          "data": {
            "text/plain": [
              "0"
            ],
            "image/png": "[encoded data removed]",
            "text/latex": "$\\displaystyle 0$"
          },
          "metadata": {}
        }
      ]
    },
    {
      "cell_type": "markdown",
      "source": [
        "# Gráfico de derivadas\n",
        "22 de maio de 2019"
      ],
      "metadata": {
        "id": "8cXd27ewSKdk"
      }
    },
    {
      "cell_type": "code",
      "source": [
        "X = np.linspace(-3, 3, 100)\n",
        "\n",
        "fplot1 = lambda x: x**4 - 10 * x **2\n",
        "fplot2 = lambda x: 4*x**3 - 10*x\n",
        "fplot3 = lambda x: 12*x**2 - 10\n",
        "fplot4 = lambda x: 24*x\n",
        "fplot5 = lambda x: 24\n",
        "fplot6 = lambda x: 0\n",
        "\n",
        "F1 = [fplot1(x) for x in X]\n",
        "F2 = [fplot2(x) for x in X]\n",
        "F3 = [fplot3(x) for x in X]\n",
        "F4 = [fplot4(x) for x in X]\n",
        "F5 = [fplot5(x) for x in X]\n",
        "F6 = [fplot6(x) for x in X]\n",
        "\n",
        "derivatives = [F1, F2, F3, F4, F5, F6]\n",
        "titles = ['$f(x)$', '1ª derivada', '2ª derivada', '3ª derivada',\n",
        "          '4ª derivada', '5ª derivada', '6ª derivada']\n",
        "\n",
        "fig1, ax1 = plt.subplots(1, 3, figsize=(20,6))\n",
        "fig2, ax2 = plt.subplots(1, 3, figsize=(20,6))\n",
        "axes = [ax1, ax2]\n",
        "\n",
        "for x, y, k in zip(range(3), range(3,6+1), range(6)):\n",
        "    for a in axes:\n",
        "        a[k].set_xlabel('$X$')\n",
        "        a[k].set_ylabel('$Y$')\n",
        "        a[k].grid(True, linestyle='-.')\n",
        "\n",
        "    # primeira linha\n",
        "    ax1[k].set_title(titles[k])\n",
        "    ax1[k].plot(X, derivatives[x], color='blue', linewidth=2.0, linestyle='-')\n",
        "\n",
        "    # segunda linha\n",
        "    ax2[k].set_title(titles[6-(3-k)])\n",
        "    ax2[k].plot(X, derivatives[y], color='blue', linewidth=2.0, linestyle='-')"
      ],
      "metadata": {
        "colab": {
          "base_uri": "https://localhost:8080/",
          "height": 797
        },
        "id": "KXQ2EiXfbvsC",
        "outputId": "10ae6caa-d09a-4a91-d358-cbad11f56c6a"
      },
      "execution_count": 151,
      "outputs": [
        {
          "output_type": "display_data",
          "data": {
            "text/plain": [
              "<Figure size 1440x432 with 3 Axes>"
            ],
            "image/png": "[encoded data removed]"
          },
          "metadata": {
            "needs_background": "light"
          }
        },
        {
          "output_type": "display_data",
          "data": {
            "text/plain": [
              "<Figure size 1440x432 with 3 Axes>"
            ],
            "image/png": "[encoded data removed]"
          },
          "metadata": {
            "needs_background": "light"
          }
        }
      ]
    },
    {
      "cell_type": "markdown",
      "source": [
        "# Integrais\n",
        "23 de maio de 2019"
      ],
      "metadata": {
        "id": "iiVh8ha2SPjB"
      }
    },
    {
      "cell_type": "markdown",
      "metadata": {
        "id": "eYXMeGatm_ji"
      },
      "source": [
        "No cálculo, a integral de uma função foi criada originalmente para determinar a área sob uma curva no plano cartesiano.\n",
        "\n"
      ]
    },
    {
      "cell_type": "markdown",
      "metadata": {
        "id": "0MZzbQvdm_jk"
      },
      "source": [
        "**Integral Definida**\n",
        "\n",
        "$$\\int_{a}^{b} f(x)\\ dx$$"
      ]
    },
    {
      "cell_type": "code",
      "source": [
        "integrate(x**2, (x, 0, 1))"
      ],
      "metadata": {
        "colab": {
          "base_uri": "https://localhost:8080/",
          "height": 51
        },
        "id": "aJh30rYicHNi",
        "outputId": "05514547-a316-428b-da24-9bae9f9265ff"
      },
      "execution_count": 96,
      "outputs": [
        {
          "output_type": "execute_result",
          "data": {
            "text/plain": [
              "1/3"
            ],
            "image/png": "[encoded data removed]",
            "text/latex": "$\\displaystyle \\frac{1}{3}$"
          },
          "metadata": {},
          "execution_count": 96
        }
      ]
    },
    {
      "cell_type": "markdown",
      "metadata": {
        "id": "TQ8zXlobm_jk"
      },
      "source": [
        "**Integral Indefinida**\n",
        "\n",
        "$$\\int f(x)\\ dx$$"
      ]
    },
    {
      "cell_type": "code",
      "source": [
        "integrate(x**2, x)"
      ],
      "metadata": {
        "colab": {
          "base_uri": "https://localhost:8080/",
          "height": 54
        },
        "id": "m20nQpbvcJ5l",
        "outputId": "864e8170-a52b-461f-93f4-748f6ae0cdec"
      },
      "execution_count": 97,
      "outputs": [
        {
          "output_type": "execute_result",
          "data": {
            "text/plain": [
              " 3\n",
              "x \n",
              "──\n",
              "3 "
            ],
            "image/png": "[encoded data removed]",
            "text/latex": "$\\displaystyle \\frac{x^{3}}{3}$"
          },
          "metadata": {},
          "execution_count": 97
        }
      ]
    },
    {
      "cell_type": "markdown",
      "metadata": {
        "id": "W61jAo7em_jl"
      },
      "source": [
        "$$\\int x^2\\ dx = \\frac{x^3}{3} + C$$"
      ]
    },
    {
      "cell_type": "markdown",
      "metadata": {
        "id": "1LL-GhW2m_jl"
      },
      "source": [
        "Determine as seguintes integrais indefinidas\n",
        "$$\\int (x^3 - 4x^2 + 6x + 3$)\\ dx$$\n",
        "$$\\int \\mathrm{sin}(x) \\ dx$$\n",
        "$$\\int e^x \\ dx$$\n",
        "$$\\int (\\frac{1}{x^2} + e^{x}) \\ dx$$\n",
        "$$\\int \\frac{1}{\\sqrt{1 - t^2}}\\ dt$$\n",
        "$$\\int \\mathrm{sin}(t)\\ dt$$\n",
        "$$\\int \\mathrm{cos}(t)\\ dt$$"
      ]
    },
    {
      "cell_type": "code",
      "metadata": {
        "id": "8TAkB-gNm_jl",
        "outputId": "06dfef17-8320-406c-e7b9-4fd364a944f1",
        "colab": {
          "base_uri": "https://localhost:8080/",
          "height": 54
        }
      },
      "source": [
        "integrate(x**3-4*x**2+6*x+3, x)"
      ],
      "execution_count": 98,
      "outputs": [
        {
          "output_type": "execute_result",
          "data": {
            "text/plain": [
              " 4      3             \n",
              "x    4⋅x       2      \n",
              "── - ──── + 3⋅x  + 3⋅x\n",
              "4     3               "
            ],
            "image/png": "[encoded data removed]",
            "text/latex": "$\\displaystyle \\frac{x^{4}}{4} - \\frac{4 x^{3}}{3} + 3 x^{2} + 3 x$"
          },
          "metadata": {},
          "execution_count": 98
        }
      ]
    },
    {
      "cell_type": "code",
      "metadata": {
        "id": "TOKC1ylTm_jl",
        "outputId": "35604fa6-486b-4f79-d92a-9eb9e88ac3ae",
        "colab": {
          "base_uri": "https://localhost:8080/",
          "height": 39
        }
      },
      "source": [
        "integrate(sin(x))"
      ],
      "execution_count": 99,
      "outputs": [
        {
          "output_type": "execute_result",
          "data": {
            "text/plain": [
              "-cos(x)"
            ],
            "image/png": "[encoded data removed]",
            "text/latex": "$\\displaystyle - \\cos{\\left(x \\right)}$"
          },
          "metadata": {},
          "execution_count": 99
        }
      ]
    },
    {
      "cell_type": "code",
      "metadata": {
        "id": "2qypgBznm_jm",
        "outputId": "ff9d0281-6199-472b-a2f0-9f19b91aea83",
        "colab": {
          "base_uri": "https://localhost:8080/",
          "height": 39
        }
      },
      "source": [
        "e = exp(1)\n",
        "integrate(e**x, x)"
      ],
      "execution_count": 100,
      "outputs": [
        {
          "output_type": "execute_result",
          "data": {
            "text/plain": [
              " x\n",
              "ℯ "
            ],
            "image/png": "[encoded data removed]",
            "text/latex": "$\\displaystyle e^{x}$"
          },
          "metadata": {},
          "execution_count": 100
        }
      ]
    },
    {
      "cell_type": "markdown",
      "metadata": {
        "id": "ItaJLt9Km_jm"
      },
      "source": [
        "Determine as seguintes integrais definidas\n",
        "$$\\int_{0}^{4} x^3\\ dx$$\n",
        "$$\\int_{0}^{4} (x^3 + 10)\\ dx$$\n",
        "$$\\int_{0}^{2} (t^4 - t)\\ dt$$\n",
        "$$\\int_{-5}^{5} x^3\\ dx$$\n",
        "$$\\int_{0}^{4} \\sqrt{x}\\ dx$$\n",
        "$$\\int_{0}^{2} \\sqrt{1 - t^3}\\ dt$$\n",
        "$$\\int_{-3}^{3} \\mathrm{sin}(x)\\ dx$$\n",
        "$$\\int_{-3}^{3} (\\mathrm{sin}(x)+\\mathrm{cos}(x))\\ dx$$"
      ]
    },
    {
      "cell_type": "code",
      "metadata": {
        "id": "K-k9PfxDm_jn",
        "outputId": "726df714-139f-422f-bbc9-861dda723859",
        "colab": {
          "base_uri": "https://localhost:8080/"
        }
      },
      "source": [
        "print(integrate(x**3, (x, 0, 4)))"
      ],
      "execution_count": 185,
      "outputs": [
        {
          "output_type": "stream",
          "name": "stdout",
          "text": [
            "64\n"
          ]
        }
      ]
    },
    {
      "cell_type": "code",
      "metadata": {
        "id": "Imp8Jb9bm_jn",
        "outputId": "907e6dcf-27f2-40bb-b382-627f151bec6f",
        "colab": {
          "base_uri": "https://localhost:8080/"
        }
      },
      "source": [
        "print(integrate(x**3+10, (x,0,4)))"
      ],
      "execution_count": 186,
      "outputs": [
        {
          "output_type": "stream",
          "name": "stdout",
          "text": [
            "104\n"
          ]
        }
      ]
    },
    {
      "cell_type": "markdown",
      "metadata": {
        "id": "C8RWsux_m_jo"
      },
      "source": [
        "Formule uma regra geral para determinar as integrais indefinidas a seguir, sabendo que $n \\in \\mathbb{N}$:\n",
        "  - $\\int x^n \\ dx$\n",
        "  - $\\int e^{nx} \\ dx$\n",
        "  - $\\int \\frac{1}{x^n} \\ dx$\n",
        "  - $\\int \\mathrm{\\sin}(n x)\\ dx$"
      ]
    },
    {
      "cell_type": "markdown",
      "metadata": {
        "id": "UHAIDt33m_jo"
      },
      "source": [
        "**Exercícios**\n",
        "$$km, \\ hm, \\ dam, \\ m, \\ dm, \\ cm, \\ mm$$\n",
        "- Para as unidades de medida citadas acima, escreva uma função que receba como parâmetros `valor_entrada: float`, `unidade_entrada: str` e `unidade_saida: str` e que retorne `valor_saida: float`. A função deve emitir uma mensagem de erro caso as unidades de medida sejam incompatíveis.\n",
        "- Escreva uma função que faça a conversão de graus **Kelvin** para **Fahrenheit**, emitindo uma mensagem de erro caso as unidades de medida sejam incompatíveis."
      ]
    },
    {
      "cell_type": "code",
      "metadata": {
        "id": "N7lePUMem_jo",
        "outputId": "e1ad3641-ebf0-449d-b333-96e7718aa823",
        "colab": {
          "base_uri": "https://localhost:8080/"
        }
      },
      "source": [
        "# exercício 1\n",
        "def conversor(valor_entrada,\n",
        "              unidade_entrada,\n",
        "              unidade_saida,\n",
        "              unidades={'km': -3, 'hm':-2, 'dam':-1, 'm':0, 'dm':1, 'cm': 2, 'mm':3}):\n",
        "    return valor_entrada * 10**(unidades[unidade_saida] - unidades[unidade_entrada])\n",
        "\n",
        "print(conversor(1, 'm', 'dm'))\n",
        "print(conversor(1, 'km', 'm'))"
      ],
      "execution_count": 103,
      "outputs": [
        {
          "output_type": "stream",
          "name": "stdout",
          "text": [
            "10\n",
            "1000\n"
          ]
        }
      ]
    },
    {
      "cell_type": "markdown",
      "metadata": {
        "id": "9gVeSfJBm_jp"
      },
      "source": [
        "Exercícios\n",
        "  \n",
        "1. Em que posição você estará ao sair do quilômetro 20 de uma estrada e viajar durante 2 horas a uma velocidade constante de 90km/h?\n",
        "\n",
        "1. Escreva uma função em Python para definir a **Função Horária do MRU**."
      ]
    },
    {
      "cell_type": "code",
      "metadata": {
        "id": "43SND8f8m_jq",
        "outputId": "2722a185-1a4f-494d-fb92-f6c6d4a71305",
        "colab": {
          "base_uri": "https://localhost:8080/"
        }
      },
      "source": [
        "# exercício 1\n",
        "\n",
        "S = lambda s0:(lambda v:(lambda t:(s0 + v*t)))\n",
        "print(S(20)(90)(2))"
      ],
      "execution_count": 184,
      "outputs": [
        {
          "output_type": "stream",
          "name": "stdout",
          "text": [
            "200\n"
          ]
        }
      ]
    },
    {
      "cell_type": "code",
      "metadata": {
        "id": "B6PPpiqOm_jq"
      },
      "source": [
        "# exercício 2\n",
        "\n",
        "def tempo_pos(s0, v, t):\n",
        "    return s0 + v*t\n",
        "\n",
        "S = lambda s0:(lambda v:(lambda t:(s0 + v*t)))"
      ],
      "execution_count": 105,
      "outputs": []
    },
    {
      "cell_type": "markdown",
      "metadata": {
        "id": "Nfa_T-v6m_jq"
      },
      "source": [
        "# Aplicações físicas da derivada"
      ]
    },
    {
      "cell_type": "markdown",
      "metadata": {
        "id": "Kl34akK2m_jq"
      },
      "source": [
        "Exercício 1\n",
        "- Expresse a função de movimento definida acima por meio de uma função $s(t)$ escrita em Python.\n",
        "- Qual é a função que permite calcular a velocidade escalar da partícula em um dado tempo $t$?\n",
        "- Qual é a função que determina a aceleração escalar da partícula ao longo do tempo $t$?\n",
        "- Plote as funções de *movimento*, *velocidade* e *aceleração* definidas acima."
      ]
    },
    {
      "cell_type": "code",
      "metadata": {
        "id": "N8kMriL8m_jq",
        "outputId": "98f60c16-3105-43ec-d526-15bf1e895979",
        "colab": {
          "base_uri": "https://localhost:8080/"
        }
      },
      "source": [
        "# exercício 1\n",
        "def pos_tempo(t):\n",
        "    return (t**2)/2 + ((4*t)/ (t + 1))\n",
        "\n",
        "S = lambda t:((t**2)/2 + ((4*t)/ (t + 1)))\n",
        "\n",
        "print(pos_tempo(6))\n",
        "print(S(6))"
      ],
      "execution_count": 106,
      "outputs": [
        {
          "output_type": "stream",
          "name": "stdout",
          "text": [
            "21.428571428571427\n",
            "21.428571428571427\n"
          ]
        }
      ]
    },
    {
      "cell_type": "markdown",
      "metadata": {
        "id": "IetcEDDlm_jr"
      },
      "source": [
        "Exercício 2\n",
        "- Considerando a função horária dos espaços de uma partícula, obtenha as funções horárias da velocidade escalar e da aceleração escalar, nos casos:\n",
        "\n",
        "$$\n",
        "\\begin{aligned}\n",
        "s(t)\\ &= 4t^4 + 2 t^3  - 7t^2  + 10t + 5 \\\\\n",
        "s(t)\\ &= t^2 + 2 t - 3\n",
        "\\end{aligned}\n",
        "$$"
      ]
    },
    {
      "cell_type": "code",
      "metadata": {
        "id": "HwZfvBJvm_jr",
        "outputId": "19d30f9d-7bff-4e3d-cf31-cff8acf61cfe",
        "colab": {
          "base_uri": "https://localhost:8080/"
        }
      },
      "source": [
        "S = lambda s0:(lambda v:(lambda t:(s0 + v*t)))\n",
        "print(S(0)(100)(4))"
      ],
      "execution_count": 183,
      "outputs": [
        {
          "output_type": "stream",
          "name": "stdout",
          "text": [
            "400\n"
          ]
        }
      ]
    },
    {
      "cell_type": "markdown",
      "metadata": {
        "id": "QVWUg4rrm_js"
      },
      "source": [
        "# Gráfico de derivadas: funções da posição, velocidade e aceleração\n",
        "05 de junho de 2019"
      ]
    },
    {
      "cell_type": "code",
      "metadata": {
        "id": "wisDeOwMm_js",
        "outputId": "767d86f9-1af6-4e59-f773-0b1a9c2f3c7d",
        "colab": {
          "base_uri": "https://localhost:8080/",
          "height": 924
        }
      },
      "source": [
        "def plot(f):\n",
        "    X = np.linspace(0, 10, 100)\n",
        "    F = [f(x) for x in X]\n",
        "    plt.xlabel('X')\n",
        "    plt.ylabel('Y')\n",
        "    plt.grid(True, linestyle='-.')\n",
        "    plt.title(\"f(x)\")\n",
        "    plt.plot(X, F, color=\"blue\", linewidth=2.0, linestyle=\"-\")\n",
        "    plt.show()\n",
        "\n",
        "def movimento(f):\n",
        "    velocidade = diff(f)\n",
        "    acel = diff(velocidade)\n",
        "    print(f'{f} Posição')\n",
        "    print(f'{velocidade} Velocidade')\n",
        "    print(f'{acel} Aceleração', end='\\n\\n')\n",
        "    \n",
        "movimento((x**2/2)+4*x/(x+1))\n",
        "\n",
        "plot(lambda x: x**2/2 + 4*x/(x + 1))\n",
        "plot(lambda x: x - 4*x/(x + 1)**2 + 4/(x + 1))\n",
        "plot(lambda x: 8*x/(x + 1)**3 + 1 - 8/(x + 1)**2)"
      ],
      "execution_count": 153,
      "outputs": [
        {
          "output_type": "stream",
          "name": "stdout",
          "text": [
            "4.666666666666666 Posição\n",
            "0 Velocidade\n",
            "0 Aceleração\n",
            "\n"
          ]
        },
        {
          "output_type": "display_data",
          "data": {
            "text/plain": [
              "<Figure size 648x288 with 1 Axes>"
            ],
            "image/png": "[encoded data removed]"
          },
          "metadata": {
            "needs_background": "light"
          }
        },
        {
          "output_type": "display_data",
          "data": {
            "text/plain": [
              "<Figure size 648x288 with 1 Axes>"
            ],
            "image/png": "[encoded data removed]"
          },
          "metadata": {
            "needs_background": "light"
          }
        },
        {
          "output_type": "display_data",
          "data": {
            "text/plain": [
              "<Figure size 648x288 with 1 Axes>"
            ],
            "image/png": "[encoded data removed]"
          },
          "metadata": {
            "needs_background": "light"
          }
        }
      ]
    },
    {
      "cell_type": "code",
      "metadata": {
        "id": "h26QRkLjm_js",
        "outputId": "54cc52b5-5f23-4b11-d6be-abc3f04f833b",
        "colab": {
          "base_uri": "https://localhost:8080/",
          "height": 295
        }
      },
      "source": [
        "x = np.linspace(0, 10, 100)\n",
        "\n",
        "F1 = (x**2/2 + 4*x/(x + 1))\n",
        "F2 = (x - 4*x/(x + 1)**2 + 4/(x + 1))\n",
        "F3 = (8*x/(x + 1)**3 + 1 - 8/(x + 1)**2)\n",
        "\n",
        "plt.xlabel('X')\n",
        "plt.ylabel('Y')\n",
        "plt.grid(True, linestyle='-.')\n",
        "plt.title('f(x)')\n",
        "\n",
        "plt.plot(x, F1, color='black', linewidth=2.0, linestyle='-')\n",
        "plt.plot(x, F2, color='red', linewidth=2.0, linestyle='-')\n",
        "plt.plot(x, F3, color='yellow', linewidth=2.0, linestyle='-')\n",
        "plt.show()"
      ],
      "execution_count": 109,
      "outputs": [
        {
          "output_type": "display_data",
          "data": {
            "text/plain": [
              "<Figure size 648x288 with 1 Axes>"
            ],
            "image/png": "[encoded data removed]"
          },
          "metadata": {
            "needs_background": "light"
          }
        }
      ]
    },
    {
      "cell_type": "code",
      "source": [
        "# definindo 'x' como símbolo do sympy\n",
        "x = Symbol('x')"
      ],
      "metadata": {
        "id": "omx4f0csR3TO"
      },
      "execution_count": 154,
      "outputs": []
    },
    {
      "cell_type": "code",
      "metadata": {
        "id": "tqLGNEPBm_jt",
        "outputId": "dcb06c5c-13cc-496c-fb6a-f721daa550f1",
        "colab": {
          "base_uri": "https://localhost:8080/",
          "height": 68
        }
      },
      "source": [
        "# posição\n",
        "solve(x**2/2 + 4*x/(x + 1))"
      ],
      "execution_count": 155,
      "outputs": [
        {
          "output_type": "execute_result",
          "data": {
            "text/plain": [
              "⎡     1   √31⋅ⅈ    1   √31⋅ⅈ⎤\n",
              "⎢0, - ─ - ─────, - ─ + ─────⎥\n",
              "⎣     2     2      2     2  ⎦"
            ],
            "image/png": "[encoded data removed]",
            "text/latex": "$\\displaystyle \\left[ 0, \\  - \\frac{1}{2} - \\frac{\\sqrt{31} i}{2}, \\  - \\frac{1}{2} + \\frac{\\sqrt{31} i}{2}\\right]$"
          },
          "metadata": {},
          "execution_count": 155
        }
      ]
    },
    {
      "cell_type": "code",
      "metadata": {
        "id": "0WpmVRvIm_jt",
        "outputId": "53ca27cd-5613-4e66-b448-f02fce9f9a3d",
        "colab": {
          "base_uri": "https://localhost:8080/",
          "height": 83
        }
      },
      "source": [
        "# velocidade (pontos críticos)\n",
        "solve(x - 4*x/(x + 1)**2 + 4/(x + 1))"
      ],
      "execution_count": 156,
      "outputs": [
        {
          "output_type": "execute_result",
          "data": {
            "text/plain": [
              "⎡                                      ⎛  1   √3⋅ⅈ⎞ 3 ____________        ⎛  1\n",
              "⎢                                      ⎜- ─ - ────⎟⋅╲╱ 6⋅√78 + 53         ⎜- ─\n",
              "⎢  2                 1                 ⎝  2    2  ⎠                   2   ⎝  2\n",
              "⎢- ─ - ───────────────────────────── - ───────────────────────────, - ─ - ────\n",
              "⎢  3     ⎛  1   √3⋅ⅈ⎞ 3 ____________                3                 3       \n",
              "⎢      3⋅⎜- ─ - ────⎟⋅╲╱ 6⋅√78 + 53                                           \n",
              "⎣        ⎝  2    2  ⎠                                                         \n",
              "\n",
              "   √3⋅ⅈ⎞ 3 ____________                                                       \n",
              " + ────⎟⋅╲╱ 6⋅√78 + 53                                     3 ____________     \n",
              "    2  ⎠                                1                  ╲╱ 6⋅√78 + 53    2 \n",
              "─────────────────────── - ─────────────────────────────, - ────────────── - ─ \n",
              "         3                  ⎛  1   √3⋅ⅈ⎞ 3 ____________          3          3 \n",
              "                          3⋅⎜- ─ + ────⎟⋅╲╱ 6⋅√78 + 53                        \n",
              "                            ⎝  2    2  ⎠                                      \n",
              "\n",
              "                  ⎤\n",
              "                  ⎥\n",
              "         1        ⎥\n",
              "- ────────────────⎥\n",
              "    3 ____________⎥\n",
              "  3⋅╲╱ 6⋅√78 + 53 ⎥\n",
              "                  ⎦"
            ],
            "image/png": "[encoded data removed]",
            "text/latex": "$\\displaystyle \\left[ - \\frac{2}{3} - \\frac{1}{3 \\left(- \\frac{1}{2} - \\frac{\\sqrt{3} i}{2}\\right) \\sqrt[3]{6 \\sqrt{78} + 53}} - \\frac{\\left(- \\frac{1}{2} - \\frac{\\sqrt{3} i}{2}\\right) \\sqrt[3]{6 \\sqrt{78} + 53}}{3}, \\  - \\frac{2}{3} - \\frac{\\left(- \\frac{1}{2} + \\frac{\\sqrt{3} i}{2}\\right) \\sqrt[3]{6 \\sqrt{78} + 53}}{3} - \\frac{1}{3 \\left(- \\frac{1}{2} + \\frac{\\sqrt{3} i}{2}\\right) \\sqrt[3]{6 \\sqrt{78} + 53}}, \\  - \\frac{\\sqrt[3]{6 \\sqrt{78} + 53}}{3} - \\frac{2}{3} - \\frac{1}{3 \\sqrt[3]{6 \\sqrt{78} + 53}}\\right]$"
          },
          "metadata": {},
          "execution_count": 156
        }
      ]
    },
    {
      "cell_type": "code",
      "metadata": {
        "id": "G7ZwqrAMm_ju",
        "outputId": "3d8605fd-f23c-401c-8e41-928d30d33c96",
        "colab": {
          "base_uri": "https://localhost:8080/",
          "height": 47
        }
      },
      "source": [
        "# aceleração\n",
        "solve(8*x/(x + 1)**3 + 1 - 8/(x + 1)**2)"
      ],
      "execution_count": 157,
      "outputs": [
        {
          "output_type": "execute_result",
          "data": {
            "text/plain": [
              "[1, -2 - √3⋅ⅈ, -2 + √3⋅ⅈ]"
            ],
            "image/png": "[encoded data removed]",
            "text/latex": "$\\displaystyle \\left[ 1, \\  -2 - \\sqrt{3} i, \\  -2 + \\sqrt{3} i\\right]$"
          },
          "metadata": {},
          "execution_count": 157
        }
      ]
    },
    {
      "cell_type": "code",
      "metadata": {
        "id": "BgP-yZQFm_ju"
      },
      "source": [
        "# def ss(f):\n",
        "#     return (f**2/2) + (4*f)/(f+1)\n",
        "\n",
        "# f = np.linspace(0, 10, 100)\n",
        "\n",
        "# f2 = lambdify(f, diff(ss(f)), 'numpy')\n",
        "# f3 = lambdify(f, diff(diff(ss(f)), 'numpy'))\n",
        "\n",
        "# b1 = [ss(x) for x in f]\n",
        "# b4 = [f2(x) for x in f]\n",
        "# b3 = [f3(x) for x in f]\n",
        "\n",
        "# plt.xlabel('X')\n",
        "# plt.ylabel('Y')\n",
        "# plt.grid(True, linestyle='-.')\n",
        "# plt.title('f(x)')\n",
        "\n",
        "# plt.plot(f, b1, color='black', linewidth=2.0, linestyle='-')\n",
        "# plt.plot(f, b4, color='red', linewidth=2.0, linestyle='-')\n",
        "# plt.plot(f, b3, color='yellow', linewidth=2.0, linestyle='-')\n",
        "\n",
        "# plt.show()"
      ],
      "execution_count": 158,
      "outputs": []
    },
    {
      "cell_type": "markdown",
      "metadata": {
        "id": "0AzBBkiem_jv"
      },
      "source": [
        "# Lista de Exercícios 3 - Revisão\n",
        "12 de junho de 2019"
      ]
    },
    {
      "cell_type": "markdown",
      "source": [
        "## $$a.$$"
      ],
      "metadata": {
        "id": "2_paI3PtoMeG"
      }
    },
    {
      "cell_type": "code",
      "source": [
        "x = Symbol('x')\n",
        "f = Function('f')"
      ],
      "metadata": {
        "id": "c0x7XTe1vVS5"
      },
      "execution_count": 159,
      "outputs": []
    },
    {
      "cell_type": "code",
      "metadata": {
        "id": "dQCe_UqGm_jw",
        "outputId": "31bddd76-88b0-49d7-fdb3-11007a6da592",
        "colab": {
          "base_uri": "https://localhost:8080/",
          "height": 124
        }
      },
      "source": [
        "# a. 1)\n",
        "\n",
        "f = 2*x**4 - x**2 + 3*x + 3\n",
        "\n",
        "display(diff(f))\n",
        "display(diff(diff(f)))\n",
        "display(diff(diff(diff(f))))\n",
        "display(diff(diff(diff(diff(f)))))\n",
        "display(diff(diff(diff(diff(diff(f))))))"
      ],
      "execution_count": 160,
      "outputs": [
        {
          "output_type": "display_data",
          "data": {
            "text/plain": [
              "   3          \n",
              "8⋅x  - 2⋅x + 3"
            ],
            "image/png": "[encoded data removed]",
            "text/latex": "$\\displaystyle 8 x^{3} - 2 x + 3$"
          },
          "metadata": {}
        },
        {
          "output_type": "display_data",
          "data": {
            "text/plain": [
              "    2    \n",
              "24⋅x  - 2"
            ],
            "image/png": "[encoded data removed]",
            "text/latex": "$\\displaystyle 24 x^{2} - 2$"
          },
          "metadata": {}
        },
        {
          "output_type": "display_data",
          "data": {
            "text/plain": [
              "48⋅x"
            ],
            "image/png": "[encoded data removed]",
            "text/latex": "$\\displaystyle 48 x$"
          },
          "metadata": {}
        },
        {
          "output_type": "display_data",
          "data": {
            "text/plain": [
              "48"
            ],
            "image/png": "[encoded data removed]",
            "text/latex": "$\\displaystyle 48$"
          },
          "metadata": {}
        },
        {
          "output_type": "display_data",
          "data": {
            "text/plain": [
              "0"
            ],
            "image/png": "[encoded data removed]",
            "text/latex": "$\\displaystyle 0$"
          },
          "metadata": {}
        }
      ]
    },
    {
      "cell_type": "code",
      "metadata": {
        "id": "frVIqhP2m_jw",
        "outputId": "9a7c9996-9d30-4423-e3a1-0f62ab9ade8b",
        "colab": {
          "base_uri": "https://localhost:8080/",
          "height": 106
        }
      },
      "source": [
        "# a. 2)\n",
        "def periodic4(f):\n",
        "    display(diff(f))\n",
        "    display(diff(diff(f)))\n",
        "    display(diff(diff(diff(f))))\n",
        "    display(diff(diff(diff(diff(f)))))\n",
        "periodic4(cos(x)- sin(x))"
      ],
      "execution_count": 161,
      "outputs": [
        {
          "output_type": "display_data",
          "data": {
            "text/plain": [
              "-sin(x) - cos(x)"
            ],
            "image/png": "[encoded data removed]",
            "text/latex": "$\\displaystyle - \\sin{\\left(x \\right)} - \\cos{\\left(x \\right)}$"
          },
          "metadata": {}
        },
        {
          "output_type": "display_data",
          "data": {
            "text/plain": [
              "sin(x) - cos(x)"
            ],
            "image/png": "[encoded data removed]",
            "text/latex": "$\\displaystyle \\sin{\\left(x \\right)} - \\cos{\\left(x \\right)}$"
          },
          "metadata": {}
        },
        {
          "output_type": "display_data",
          "data": {
            "text/plain": [
              "sin(x) + cos(x)"
            ],
            "image/png": "[encoded data removed]",
            "text/latex": "$\\displaystyle \\sin{\\left(x \\right)} + \\cos{\\left(x \\right)}$"
          },
          "metadata": {}
        },
        {
          "output_type": "display_data",
          "data": {
            "text/plain": [
              "-sin(x) + cos(x)"
            ],
            "image/png": "[encoded data removed]",
            "text/latex": "$\\displaystyle - \\sin{\\left(x \\right)} + \\cos{\\left(x \\right)}$"
          },
          "metadata": {}
        }
      ]
    },
    {
      "cell_type": "code",
      "metadata": {
        "id": "20k2wMUDm_jx",
        "outputId": "062ac9e8-668e-4e8d-b49b-aea7a47beb03",
        "colab": {
          "base_uri": "https://localhost:8080/",
          "height": 106
        }
      },
      "source": [
        "# a. 3)\n",
        "def periodic4(f):\n",
        "    display(diff(f))\n",
        "    display(diff(diff(f)))\n",
        "    display(diff(diff(diff(f))))\n",
        "    display(diff(diff(diff(diff(f)))))\n",
        "periodic4(exp(2*x))"
      ],
      "execution_count": 162,
      "outputs": [
        {
          "output_type": "display_data",
          "data": {
            "text/plain": [
              "   2⋅x\n",
              "2⋅ℯ   "
            ],
            "image/png": "[encoded data removed]",
            "text/latex": "$\\displaystyle 2 e^{2 x}$"
          },
          "metadata": {}
        },
        {
          "output_type": "display_data",
          "data": {
            "text/plain": [
              "   2⋅x\n",
              "4⋅ℯ   "
            ],
            "image/png": "[encoded data removed]",
            "text/latex": "$\\displaystyle 4 e^{2 x}$"
          },
          "metadata": {}
        },
        {
          "output_type": "display_data",
          "data": {
            "text/plain": [
              "   2⋅x\n",
              "8⋅ℯ   "
            ],
            "image/png": "[encoded data removed]",
            "text/latex": "$\\displaystyle 8 e^{2 x}$"
          },
          "metadata": {}
        },
        {
          "output_type": "display_data",
          "data": {
            "text/plain": [
              "    2⋅x\n",
              "16⋅ℯ   "
            ],
            "image/png": "[encoded data removed]",
            "text/latex": "$\\displaystyle 16 e^{2 x}$"
          },
          "metadata": {}
        }
      ]
    },
    {
      "cell_type": "code",
      "metadata": {
        "id": "QhhOW8Hzm_jx"
      },
      "source": [
        "# a regra geral, em função de n, obedece ao padrão\n",
        "# (2**n) * (e**(2*x)) em que n é a ordem de derivada desejada"
      ],
      "execution_count": 163,
      "outputs": []
    },
    {
      "cell_type": "code",
      "metadata": {
        "id": "UmwZGM6pm_jy",
        "outputId": "b3b46af1-dfb4-4b79-de47-b62795d17aff",
        "colab": {
          "base_uri": "https://localhost:8080/",
          "height": 187
        }
      },
      "source": [
        "# a. 4)\n",
        "def periodic4(f):\n",
        "    display(diff(f))\n",
        "    display(diff(diff(f)))\n",
        "    display(diff(diff(diff(f))))\n",
        "    display(diff(diff(diff(diff(f)))))\n",
        "    display(diff(diff(diff(diff(diff(f))))))\n",
        "periodic4(1/x)"
      ],
      "execution_count": 164,
      "outputs": [
        {
          "output_type": "display_data",
          "data": {
            "text/plain": [
              "-1 \n",
              "───\n",
              "  2\n",
              " x "
            ],
            "image/png": "[encoded data removed]",
            "text/latex": "$\\displaystyle - \\frac{1}{x^{2}}$"
          },
          "metadata": {}
        },
        {
          "output_type": "display_data",
          "data": {
            "text/plain": [
              "2 \n",
              "──\n",
              " 3\n",
              "x "
            ],
            "image/png": "[encoded data removed]",
            "text/latex": "$\\displaystyle \\frac{2}{x^{3}}$"
          },
          "metadata": {}
        },
        {
          "output_type": "display_data",
          "data": {
            "text/plain": [
              "-6 \n",
              "───\n",
              "  4\n",
              " x "
            ],
            "image/png": "[encoded data removed]",
            "text/latex": "$\\displaystyle - \\frac{6}{x^{4}}$"
          },
          "metadata": {}
        },
        {
          "output_type": "display_data",
          "data": {
            "text/plain": [
              "24\n",
              "──\n",
              " 5\n",
              "x "
            ],
            "image/png": "[encoded data removed]",
            "text/latex": "$\\displaystyle \\frac{24}{x^{5}}$"
          },
          "metadata": {}
        },
        {
          "output_type": "display_data",
          "data": {
            "text/plain": [
              "-120 \n",
              "─────\n",
              "   6 \n",
              "  x  "
            ],
            "image/png": "[encoded data removed]",
            "text/latex": "$\\displaystyle - \\frac{120}{x^{6}}$"
          },
          "metadata": {}
        }
      ]
    },
    {
      "cell_type": "code",
      "metadata": {
        "id": "dTi8sEMfm_jy"
      },
      "source": [
        "# a regra geral, em função de n, obedece ao padrão\n",
        "# (-1)**n * n! / x**(n+1) em que n é a ordem de derivada desejada"
      ],
      "execution_count": 165,
      "outputs": []
    },
    {
      "cell_type": "code",
      "metadata": {
        "id": "mguajqgbm_jz",
        "outputId": "6a52cb55-5c8f-469a-b927-774330802427",
        "colab": {
          "base_uri": "https://localhost:8080/",
          "height": 51
        }
      },
      "source": [
        "# prova\n",
        "display(diff(diff(diff(diff(diff(diff(1/x)))))))"
      ],
      "execution_count": 166,
      "outputs": [
        {
          "output_type": "display_data",
          "data": {
            "text/plain": [
              "720\n",
              "───\n",
              "  7\n",
              " x "
            ],
            "image/png": "[encoded data removed]",
            "text/latex": "$\\displaystyle \\frac{720}{x^{7}}$"
          },
          "metadata": {}
        }
      ]
    },
    {
      "cell_type": "markdown",
      "metadata": {
        "id": "GgFXCtNpm_j0"
      },
      "source": [
        "## $$b.$$"
      ]
    },
    {
      "cell_type": "code",
      "metadata": {
        "id": "IRP0mJz7m_j0",
        "outputId": "5a1bc2d8-2c0c-47ed-a287-27ca8e596895",
        "colab": {
          "base_uri": "https://localhost:8080/",
          "height": 299
        }
      },
      "source": [
        "# b. 1)\n",
        "def plot(f):\n",
        "    X = np.linspace(-10, 10, 100)\n",
        "    F = [f(x) for x in X]\n",
        "    plt.xlabel('$X$')\n",
        "    plt.ylabel('$Y$')\n",
        "    plt.grid(True, linestyle='-.')\n",
        "    plt.title('$f(x)$')\n",
        "    plt.plot(X, F, color='blue', linewidth=2.0, linestyle='-')\n",
        "    plt.show()\n",
        "\n",
        "plot(lambda x: x**4 - 10*x**2)"
      ],
      "execution_count": 167,
      "outputs": [
        {
          "output_type": "display_data",
          "data": {
            "text/plain": [
              "<Figure size 648x288 with 1 Axes>"
            ],
            "image/png": "[encoded data removed]"
          },
          "metadata": {
            "needs_background": "light"
          }
        }
      ]
    },
    {
      "cell_type": "raw",
      "metadata": {
        "id": "5VZZTvdVm_j0"
      },
      "source": [
        "- $x < 0$: Decrescente\n",
        "- $x = 0$: Mínimo\n",
        "- $x > 0$: Crescente"
      ]
    },
    {
      "cell_type": "code",
      "metadata": {
        "id": "gLsDr1yMm_j0",
        "outputId": "c1dec84a-150d-44c4-e15a-3f475afc82fe",
        "colab": {
          "base_uri": "https://localhost:8080/",
          "height": 297
        }
      },
      "source": [
        "# b. 2)\n",
        "def plot(f):\n",
        "    X = np.linspace(-10, 10, 100)\n",
        "    F = [f(x) for x in X]\n",
        "    plt.xlabel('X')\n",
        "    plt.ylabel('Y')\n",
        "    plt.grid(True, linestyle='-.')\n",
        "    plt.title('$f(x)$')\n",
        "    plt.plot(X, F, color='blue', linewidth=2.0, linestyle='-')\n",
        "    plt.show()\n",
        "\n",
        "plot(lambda x: x**3 + 2)"
      ],
      "execution_count": 168,
      "outputs": [
        {
          "output_type": "display_data",
          "data": {
            "text/plain": [
              "<Figure size 648x288 with 1 Axes>"
            ],
            "image/png": "[encoded data removed]"
          },
          "metadata": {
            "needs_background": "light"
          }
        }
      ]
    },
    {
      "cell_type": "raw",
      "metadata": {
        "id": "QsA4jdAPm_j1"
      },
      "source": [
        "- $x < 0$: Decrescente\n",
        "- $x = 0$: Inflexão\n",
        "- $x > 0$: Crescente"
      ]
    },
    {
      "cell_type": "code",
      "metadata": {
        "id": "1KNfOOILm_j1",
        "outputId": "e45bb501-ea86-4a60-b04e-b7bec16811a0",
        "colab": {
          "base_uri": "https://localhost:8080/",
          "height": 299
        }
      },
      "source": [
        "# b. 3)\n",
        "def plot(f):\n",
        "    X = np.linspace(-10, 10, 100)\n",
        "    F = [f(x) for x in X]\n",
        "    plt.xlabel('$X$')\n",
        "    plt.ylabel('$Y$')\n",
        "    plt.grid(True, linestyle='-.')\n",
        "    plt.title('$f(x)$')\n",
        "    plt.plot(X, F, color='blue', linewidth=2.0, linestyle='-')\n",
        "    plt.show()\n",
        "\n",
        "plot(lambda x: x**3 - 2*x**2 - 5*x + 6)"
      ],
      "execution_count": 169,
      "outputs": [
        {
          "output_type": "display_data",
          "data": {
            "text/plain": [
              "<Figure size 648x288 with 1 Axes>"
            ],
            "image/png": "[encoded data removed]"
          },
          "metadata": {
            "needs_background": "light"
          }
        }
      ]
    },
    {
      "cell_type": "raw",
      "metadata": {
        "id": "IU8th-Bfm_j2"
      },
      "source": [
        "- $x < 0$: Decrescente\n",
        "- $x = 0$: Inflexão\n",
        "- $x > 0$: Crescente"
      ]
    },
    {
      "cell_type": "code",
      "metadata": {
        "id": "O1I_lJhBm_j2",
        "outputId": "803197b2-dc60-4a06-9ff5-1a1451926869",
        "colab": {
          "base_uri": "https://localhost:8080/",
          "height": 295
        }
      },
      "source": [
        "# b. 4)\n",
        "def plot(f):\n",
        "    X = np.linspace(-10, 10, 100)\n",
        "    F = [f(x) for x in X]\n",
        "    plt.xlabel('X')\n",
        "    plt.ylabel('Y')\n",
        "    plt.grid(True, linestyle='-.')\n",
        "    plt.title(\"f(x)\")\n",
        "    plt.plot(X, F, color=\"blue\", linewidth=2.0, linestyle=\"-\")\n",
        "    plt.show()\n",
        "    \n",
        "plot(lambda x: -4*x**3 + 3*x**2 + 18*x)"
      ],
      "execution_count": 170,
      "outputs": [
        {
          "output_type": "display_data",
          "data": {
            "text/plain": [
              "<Figure size 648x288 with 1 Axes>"
            ],
            "image/png": "[encoded data removed]"
          },
          "metadata": {
            "needs_background": "light"
          }
        }
      ]
    },
    {
      "cell_type": "raw",
      "metadata": {
        "id": "DVs5CQU1m_j2"
      },
      "source": [
        "- $x < 0$: Crescente\n",
        "- $x = 0$: Inflexão\n",
        "- $x > 0$: Decrescente"
      ]
    },
    {
      "cell_type": "code",
      "metadata": {
        "id": "-QEagYlDm_j2",
        "outputId": "25e774c0-0ba9-489b-fc58-ac18f46fcfdc",
        "colab": {
          "base_uri": "https://localhost:8080/",
          "height": 295
        }
      },
      "source": [
        "# b. 5)\n",
        "def plot(f):\n",
        "    X = np.linspace(-15, 20, 100)\n",
        "    F = [f(x) for x in X]\n",
        "    plt.xlabel('X')\n",
        "    plt.ylabel('Y')\n",
        "    plt.grid(True, linestyle='-.')\n",
        "    plt.title(\"f(x)\")\n",
        "    plt.plot(X, F, color=\"blue\", linewidth=2.0, linestyle=\"-\")\n",
        "    plt.show()\n",
        "    \n",
        "plot(lambda x: x**3/2 - 3*x**2 + 6*x)"
      ],
      "execution_count": 171,
      "outputs": [
        {
          "output_type": "display_data",
          "data": {
            "text/plain": [
              "<Figure size 648x288 with 1 Axes>"
            ],
            "image/png": "[encoded data removed]"
          },
          "metadata": {
            "needs_background": "light"
          }
        }
      ]
    },
    {
      "cell_type": "raw",
      "metadata": {
        "id": "uY5crJt-m_j2"
      },
      "source": [
        "- $x < 0$: Decrescente\n",
        "- $x = 0$: Inflexão\n",
        "- $x > 0$: Crescente"
      ]
    },
    {
      "cell_type": "markdown",
      "metadata": {
        "id": "sGSq1d5Ym_j3"
      },
      "source": [
        "## $$c.$$"
      ]
    },
    {
      "cell_type": "code",
      "metadata": {
        "id": "zAtwOFblm_j3",
        "outputId": "10fc0695-4192-4713-fed2-9af355b90441",
        "colab": {
          "base_uri": "https://localhost:8080/",
          "height": 51
        }
      },
      "source": [
        "# c. 1)\n",
        "integrate(2 - 2*x**3,(x, 1,2))"
      ],
      "execution_count": 172,
      "outputs": [
        {
          "output_type": "execute_result",
          "data": {
            "text/plain": [
              "-11/2"
            ],
            "image/png": "[encoded data removed]",
            "text/latex": "$\\displaystyle - \\frac{11}{2}$"
          },
          "metadata": {},
          "execution_count": 172
        }
      ]
    },
    {
      "cell_type": "code",
      "metadata": {
        "id": "muFTEp04m_j4",
        "outputId": "47435b94-24b0-4c95-e70b-74c46c9964c5",
        "colab": {
          "base_uri": "https://localhost:8080/",
          "height": 51
        }
      },
      "source": [
        "# c. 2)\n",
        "integrate(x**2-1,(x, 0,1))"
      ],
      "execution_count": 173,
      "outputs": [
        {
          "output_type": "execute_result",
          "data": {
            "text/plain": [
              "-2/3"
            ],
            "image/png": "[encoded data removed]",
            "text/latex": "$\\displaystyle - \\frac{2}{3}$"
          },
          "metadata": {},
          "execution_count": 173
        }
      ]
    },
    {
      "cell_type": "markdown",
      "metadata": {
        "id": "jX84V0Ynm_j5"
      },
      "source": [
        "## $$d.$$"
      ]
    },
    {
      "cell_type": "code",
      "metadata": {
        "id": "dNpUILRQm_j5",
        "outputId": "1299d6e3-5152-4f13-9caa-6f273384ccc7",
        "colab": {
          "base_uri": "https://localhost:8080/",
          "height": 176
        }
      },
      "source": [
        "def roma_riemann(f, a, b, n):\n",
        "    h = (b - a) / n\n",
        "    soma = 0\n",
        "    serie = [f(a + k * h) * h for k in range(1, n+1)]\n",
        "    for i in serie:\n",
        "        soma = soma + i\n",
        "    return soma\n",
        "    \n",
        "print(roma_riemann(lambda x: x**2, 0, 1, 300))\n",
        "print(-(roma_riemann(lambda x: x**2, 1, 0, 300)), end='\\n\\n')\n",
        "\n",
        "display(integrate(x**2, (x,0,1)))\n",
        "print('\\n')\n",
        "display(integrate(x**2, (x,1,0))*-1)"
      ],
      "execution_count": 182,
      "outputs": [
        {
          "output_type": "stream",
          "name": "stdout",
          "text": [
            "0.3350018518518521\n",
            "0.33166851851851836\n",
            "\n"
          ]
        },
        {
          "output_type": "display_data",
          "data": {
            "text/plain": [
              "1/3"
            ],
            "image/png": "[encoded data removed]",
            "text/latex": "$\\displaystyle \\frac{1}{3}$"
          },
          "metadata": {}
        },
        {
          "output_type": "stream",
          "name": "stdout",
          "text": [
            "\n",
            "\n"
          ]
        },
        {
          "output_type": "display_data",
          "data": {
            "text/plain": [
              "1/3"
            ],
            "image/png": "[encoded data removed]",
            "text/latex": "$\\displaystyle \\frac{1}{3}$"
          },
          "metadata": {}
        }
      ]
    },
    {
      "cell_type": "markdown",
      "metadata": {
        "id": "qHLA8TrOm_j6"
      },
      "source": [
        "## $$e.$$"
      ]
    },
    {
      "cell_type": "code",
      "metadata": {
        "id": "rF71hPjSm_j6",
        "outputId": "260260f8-ab75-4273-cc6f-dc3703bcff9e",
        "colab": {
          "base_uri": "https://localhost:8080/"
        }
      },
      "source": [
        "# e. 1)\n",
        "\n",
        "def s(t):\n",
        "    return t**3/3 + 3*t**2/2 + 2*t\n",
        "\n",
        "print(s(5))"
      ],
      "execution_count": 179,
      "outputs": [
        {
          "output_type": "stream",
          "name": "stdout",
          "text": [
            "89.16666666666666\n"
          ]
        }
      ]
    },
    {
      "cell_type": "code",
      "metadata": {
        "id": "zDgGJaYsm_j8",
        "outputId": "7c52e029-ae0f-4c72-a3f6-24e149239b89",
        "colab": {
          "base_uri": "https://localhost:8080/",
          "height": 57
        }
      },
      "source": [
        "# e. 2)\n",
        "print('velocidade')\n",
        "diff(x**3/3 + 3*x**2/2 + 2*x)"
      ],
      "execution_count": 176,
      "outputs": [
        {
          "output_type": "stream",
          "name": "stdout",
          "text": [
            "velocidade\n"
          ]
        },
        {
          "output_type": "execute_result",
          "data": {
            "text/plain": [
              " 2          \n",
              "x  + 3⋅x + 2"
            ],
            "image/png": "[encoded data removed]",
            "text/latex": "$\\displaystyle x^{2} + 3 x + 2$"
          },
          "metadata": {},
          "execution_count": 176
        }
      ]
    },
    {
      "cell_type": "code",
      "metadata": {
        "id": "F1iT2hz3m_j9",
        "outputId": "65d8df34-d9d9-42c7-814f-695398c6ea95",
        "colab": {
          "base_uri": "https://localhost:8080/",
          "height": 57
        }
      },
      "source": [
        "print('aceleração')\n",
        "diff(diff((x**3/3 + 3*x**2/2 + 2*x)))"
      ],
      "execution_count": 177,
      "outputs": [
        {
          "output_type": "stream",
          "name": "stdout",
          "text": [
            "aceleração\n"
          ]
        },
        {
          "output_type": "execute_result",
          "data": {
            "text/plain": [
              "2⋅x + 3"
            ],
            "image/png": "[encoded data removed]",
            "text/latex": "$\\displaystyle 2 x + 3$"
          },
          "metadata": {},
          "execution_count": 177
        }
      ]
    },
    {
      "cell_type": "code",
      "metadata": {
        "id": "itw0jSf5m_j9",
        "outputId": "d381dac3-16a5-47e0-a9bf-616b28aa8c81",
        "colab": {
          "base_uri": "https://localhost:8080/"
        }
      },
      "source": [
        "soma = lambda x: 1 if x == 1 else x+soma(x-1)\n",
        "print(soma(10))"
      ],
      "execution_count": 180,
      "outputs": [
        {
          "output_type": "stream",
          "name": "stdout",
          "text": [
            "55\n"
          ]
        }
      ]
    }
  ]
}